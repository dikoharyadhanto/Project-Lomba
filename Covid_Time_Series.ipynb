{
  "nbformat": 4,
  "nbformat_minor": 0,
  "metadata": {
    "colab": {
      "name": "Covid Time Series.ipynb",
      "provenance": [],
      "collapsed_sections": [],
      "authorship_tag": "ABX9TyM6vZdNROGTEa/UHYBwCQcw",
      "include_colab_link": true
    },
    "kernelspec": {
      "display_name": "Python 3",
      "name": "python3"
    },
    "language_info": {
      "name": "python"
    },
    "widgets": {
      "application/vnd.jupyter.widget-state+json": {
        "72587ac4bf7f4dc18a8a07d66beb4764": {
          "model_module": "@jupyter-widgets/controls",
          "model_name": "HBoxModel",
          "model_module_version": "1.5.0",
          "state": {
            "_view_name": "HBoxView",
            "_dom_classes": [],
            "_model_name": "HBoxModel",
            "_view_module": "@jupyter-widgets/controls",
            "_model_module_version": "1.5.0",
            "_view_count": null,
            "_view_module_version": "1.5.0",
            "box_style": "",
            "layout": "IPY_MODEL_4e8d2fd5ba4f41e591a8fba6ead2c549",
            "_model_module": "@jupyter-widgets/controls",
            "children": [
              "IPY_MODEL_844cb65827fc40de9d908c2a881d533e",
              "IPY_MODEL_83367808a11b49669daff57a79e5ed6a",
              "IPY_MODEL_ce67883e00ee4aa9a837a4b577e6b015"
            ]
          }
        },
        "4e8d2fd5ba4f41e591a8fba6ead2c549": {
          "model_module": "@jupyter-widgets/base",
          "model_name": "LayoutModel",
          "model_module_version": "1.2.0",
          "state": {
            "_view_name": "LayoutView",
            "grid_template_rows": null,
            "right": null,
            "justify_content": null,
            "_view_module": "@jupyter-widgets/base",
            "overflow": null,
            "_model_module_version": "1.2.0",
            "_view_count": null,
            "flex_flow": null,
            "width": null,
            "min_width": null,
            "border": null,
            "align_items": null,
            "bottom": null,
            "_model_module": "@jupyter-widgets/base",
            "top": null,
            "grid_column": null,
            "overflow_y": null,
            "overflow_x": null,
            "grid_auto_flow": null,
            "grid_area": null,
            "grid_template_columns": null,
            "flex": null,
            "_model_name": "LayoutModel",
            "justify_items": null,
            "grid_row": null,
            "max_height": null,
            "align_content": null,
            "visibility": null,
            "align_self": null,
            "height": null,
            "min_height": null,
            "padding": null,
            "grid_auto_rows": null,
            "grid_gap": null,
            "max_width": null,
            "order": null,
            "_view_module_version": "1.2.0",
            "grid_template_areas": null,
            "object_position": null,
            "object_fit": null,
            "grid_auto_columns": null,
            "margin": null,
            "display": null,
            "left": null
          }
        },
        "844cb65827fc40de9d908c2a881d533e": {
          "model_module": "@jupyter-widgets/controls",
          "model_name": "HTMLModel",
          "model_module_version": "1.5.0",
          "state": {
            "_view_name": "HTMLView",
            "style": "IPY_MODEL_aa60d2acae4d419f969433e1d0d1d137",
            "_dom_classes": [],
            "description": "",
            "_model_name": "HTMLModel",
            "placeholder": "​",
            "_view_module": "@jupyter-widgets/controls",
            "_model_module_version": "1.5.0",
            "value": "100%",
            "_view_count": null,
            "_view_module_version": "1.5.0",
            "description_tooltip": null,
            "_model_module": "@jupyter-widgets/controls",
            "layout": "IPY_MODEL_d27d76ada9ea41dba6863d9efa58c45a"
          }
        },
        "83367808a11b49669daff57a79e5ed6a": {
          "model_module": "@jupyter-widgets/controls",
          "model_name": "FloatProgressModel",
          "model_module_version": "1.5.0",
          "state": {
            "_view_name": "ProgressView",
            "style": "IPY_MODEL_106d198c3e7944bfb3eec8fd31ee40dd",
            "_dom_classes": [],
            "description": "",
            "_model_name": "FloatProgressModel",
            "bar_style": "success",
            "max": 41,
            "_view_module": "@jupyter-widgets/controls",
            "_model_module_version": "1.5.0",
            "value": 41,
            "_view_count": null,
            "_view_module_version": "1.5.0",
            "orientation": "horizontal",
            "min": 0,
            "description_tooltip": null,
            "_model_module": "@jupyter-widgets/controls",
            "layout": "IPY_MODEL_b8d416c92ce64749898274c9e8034d32"
          }
        },
        "ce67883e00ee4aa9a837a4b577e6b015": {
          "model_module": "@jupyter-widgets/controls",
          "model_name": "HTMLModel",
          "model_module_version": "1.5.0",
          "state": {
            "_view_name": "HTMLView",
            "style": "IPY_MODEL_05fd0a8a401846e9a160485dae831ecf",
            "_dom_classes": [],
            "description": "",
            "_model_name": "HTMLModel",
            "placeholder": "​",
            "_view_module": "@jupyter-widgets/controls",
            "_model_module_version": "1.5.0",
            "value": " 41/41 [01:37&lt;00:00,  2.48s/it]",
            "_view_count": null,
            "_view_module_version": "1.5.0",
            "description_tooltip": null,
            "_model_module": "@jupyter-widgets/controls",
            "layout": "IPY_MODEL_307e1213d08546a789f6e192babd69fb"
          }
        },
        "aa60d2acae4d419f969433e1d0d1d137": {
          "model_module": "@jupyter-widgets/controls",
          "model_name": "DescriptionStyleModel",
          "model_module_version": "1.5.0",
          "state": {
            "_view_name": "StyleView",
            "_model_name": "DescriptionStyleModel",
            "description_width": "",
            "_view_module": "@jupyter-widgets/base",
            "_model_module_version": "1.5.0",
            "_view_count": null,
            "_view_module_version": "1.2.0",
            "_model_module": "@jupyter-widgets/controls"
          }
        },
        "d27d76ada9ea41dba6863d9efa58c45a": {
          "model_module": "@jupyter-widgets/base",
          "model_name": "LayoutModel",
          "model_module_version": "1.2.0",
          "state": {
            "_view_name": "LayoutView",
            "grid_template_rows": null,
            "right": null,
            "justify_content": null,
            "_view_module": "@jupyter-widgets/base",
            "overflow": null,
            "_model_module_version": "1.2.0",
            "_view_count": null,
            "flex_flow": null,
            "width": null,
            "min_width": null,
            "border": null,
            "align_items": null,
            "bottom": null,
            "_model_module": "@jupyter-widgets/base",
            "top": null,
            "grid_column": null,
            "overflow_y": null,
            "overflow_x": null,
            "grid_auto_flow": null,
            "grid_area": null,
            "grid_template_columns": null,
            "flex": null,
            "_model_name": "LayoutModel",
            "justify_items": null,
            "grid_row": null,
            "max_height": null,
            "align_content": null,
            "visibility": null,
            "align_self": null,
            "height": null,
            "min_height": null,
            "padding": null,
            "grid_auto_rows": null,
            "grid_gap": null,
            "max_width": null,
            "order": null,
            "_view_module_version": "1.2.0",
            "grid_template_areas": null,
            "object_position": null,
            "object_fit": null,
            "grid_auto_columns": null,
            "margin": null,
            "display": null,
            "left": null
          }
        },
        "106d198c3e7944bfb3eec8fd31ee40dd": {
          "model_module": "@jupyter-widgets/controls",
          "model_name": "ProgressStyleModel",
          "model_module_version": "1.5.0",
          "state": {
            "_view_name": "StyleView",
            "_model_name": "ProgressStyleModel",
            "description_width": "",
            "_view_module": "@jupyter-widgets/base",
            "_model_module_version": "1.5.0",
            "_view_count": null,
            "_view_module_version": "1.2.0",
            "bar_color": null,
            "_model_module": "@jupyter-widgets/controls"
          }
        },
        "b8d416c92ce64749898274c9e8034d32": {
          "model_module": "@jupyter-widgets/base",
          "model_name": "LayoutModel",
          "model_module_version": "1.2.0",
          "state": {
            "_view_name": "LayoutView",
            "grid_template_rows": null,
            "right": null,
            "justify_content": null,
            "_view_module": "@jupyter-widgets/base",
            "overflow": null,
            "_model_module_version": "1.2.0",
            "_view_count": null,
            "flex_flow": null,
            "width": null,
            "min_width": null,
            "border": null,
            "align_items": null,
            "bottom": null,
            "_model_module": "@jupyter-widgets/base",
            "top": null,
            "grid_column": null,
            "overflow_y": null,
            "overflow_x": null,
            "grid_auto_flow": null,
            "grid_area": null,
            "grid_template_columns": null,
            "flex": null,
            "_model_name": "LayoutModel",
            "justify_items": null,
            "grid_row": null,
            "max_height": null,
            "align_content": null,
            "visibility": null,
            "align_self": null,
            "height": null,
            "min_height": null,
            "padding": null,
            "grid_auto_rows": null,
            "grid_gap": null,
            "max_width": null,
            "order": null,
            "_view_module_version": "1.2.0",
            "grid_template_areas": null,
            "object_position": null,
            "object_fit": null,
            "grid_auto_columns": null,
            "margin": null,
            "display": null,
            "left": null
          }
        },
        "05fd0a8a401846e9a160485dae831ecf": {
          "model_module": "@jupyter-widgets/controls",
          "model_name": "DescriptionStyleModel",
          "model_module_version": "1.5.0",
          "state": {
            "_view_name": "StyleView",
            "_model_name": "DescriptionStyleModel",
            "description_width": "",
            "_view_module": "@jupyter-widgets/base",
            "_model_module_version": "1.5.0",
            "_view_count": null,
            "_view_module_version": "1.2.0",
            "_model_module": "@jupyter-widgets/controls"
          }
        },
        "307e1213d08546a789f6e192babd69fb": {
          "model_module": "@jupyter-widgets/base",
          "model_name": "LayoutModel",
          "model_module_version": "1.2.0",
          "state": {
            "_view_name": "LayoutView",
            "grid_template_rows": null,
            "right": null,
            "justify_content": null,
            "_view_module": "@jupyter-widgets/base",
            "overflow": null,
            "_model_module_version": "1.2.0",
            "_view_count": null,
            "flex_flow": null,
            "width": null,
            "min_width": null,
            "border": null,
            "align_items": null,
            "bottom": null,
            "_model_module": "@jupyter-widgets/base",
            "top": null,
            "grid_column": null,
            "overflow_y": null,
            "overflow_x": null,
            "grid_auto_flow": null,
            "grid_area": null,
            "grid_template_columns": null,
            "flex": null,
            "_model_name": "LayoutModel",
            "justify_items": null,
            "grid_row": null,
            "max_height": null,
            "align_content": null,
            "visibility": null,
            "align_self": null,
            "height": null,
            "min_height": null,
            "padding": null,
            "grid_auto_rows": null,
            "grid_gap": null,
            "max_width": null,
            "order": null,
            "_view_module_version": "1.2.0",
            "grid_template_areas": null,
            "object_position": null,
            "object_fit": null,
            "grid_auto_columns": null,
            "margin": null,
            "display": null,
            "left": null
          }
        }
      }
    }
  },
  "cells": [
    {
      "cell_type": "markdown",
      "metadata": {
        "id": "view-in-github",
        "colab_type": "text"
      },
      "source": [
        "<a href=\"https://colab.research.google.com/github/dikoharyadhanto/Project-Lomba/blob/time-series-prediction/Covid_Time_Series.ipynb\" target=\"_parent\"><img src=\"https://colab.research.google.com/assets/colab-badge.svg\" alt=\"Open In Colab\"/></a>"
      ]
    },
    {
      "cell_type": "code",
      "metadata": {
        "id": "OONE4oG4nP3d"
      },
      "source": [
        "import numpy as np\n",
        "import pandas as pd\n",
        "import requests\n",
        "from fbprophet import Prophet\n",
        "import matplotlib.pyplot as plt"
      ],
      "execution_count": 430,
      "outputs": []
    },
    {
      "cell_type": "markdown",
      "metadata": {
        "id": "VRiLRPPeICNA"
      },
      "source": [
        "# **Data 2: Data Kasus Covid (Webscraping)**"
      ]
    },
    {
      "cell_type": "markdown",
      "metadata": {
        "id": "OgpOZYZM79w2"
      },
      "source": [
        "covid19.go.id menyediakan data kasus COVID-19 tingkat provinsi di alamat API yang berbeda. Sebagai data mengenai COVID-19 Jakarta, tersedia di https://data.covid19.go.id/public/api/prov_detail_DKI_JAKARTA.json."
      ]
    },
    {
      "cell_type": "code",
      "metadata": {
        "id": "jdpsSqcU76x_",
        "colab": {
          "base_uri": "https://localhost:8080/"
        },
        "outputId": "e40261bb-d959-402f-ab53-d0175753ea63"
      },
      "source": [
        "url = 'https://data.covid19.go.id/public/api/prov_detail_DKI_JAKARTA.json'\n",
        "resp_dki = requests.get(url)\n",
        "cov_dki_raw = resp_dki.json()\n",
        "print (resp_dki)"
      ],
      "execution_count": 431,
      "outputs": [
        {
          "output_type": "stream",
          "name": "stdout",
          "text": [
            "<Response [200]>\n"
          ]
        }
      ]
    },
    {
      "cell_type": "markdown",
      "metadata": {
        "id": "kBlM5GG38Pnr"
      },
      "source": [
        "## **Akses Data Covid dengan API**"
      ]
    },
    {
      "cell_type": "code",
      "metadata": {
        "id": "M1c8Ft238YNt",
        "colab": {
          "base_uri": "https://localhost:8080/"
        },
        "outputId": "54f17ef0-875a-4930-e1d1-73e72ef15514"
      },
      "source": [
        "print('Nama-nama elemen utama:\\n', cov_dki_raw.keys())"
      ],
      "execution_count": 432,
      "outputs": [
        {
          "output_type": "stream",
          "name": "stdout",
          "text": [
            "Nama-nama elemen utama:\n",
            " dict_keys(['last_date', 'provinsi', 'kasus_total', 'kasus_tanpa_tgl', 'kasus_dengan_tgl', 'meninggal_persen', 'meninggal_tanpa_tgl', 'meninggal_dengan_tgl', 'sembuh_persen', 'sembuh_tanpa_tgl', 'sembuh_dengan_tgl', 'list_perkembangan', 'data'])\n"
          ]
        }
      ]
    },
    {
      "cell_type": "markdown",
      "metadata": {
        "id": "C0ObByBG8RR2"
      },
      "source": [
        "### **Berapa jumlah total kasus COVID-19 di DKI Jakarta?**"
      ]
    },
    {
      "cell_type": "code",
      "metadata": {
        "id": "YizvrXet8DMi",
        "colab": {
          "base_uri": "https://localhost:8080/"
        },
        "outputId": "b6ba1996-01cb-4927-89ac-9351c98885bd"
      },
      "source": [
        "print('\\nJumlah total kasus COVID-19 di DKI Jakarta : %d' %cov_dki_raw['kasus_total'])"
      ],
      "execution_count": 433,
      "outputs": [
        {
          "output_type": "stream",
          "name": "stdout",
          "text": [
            "\n",
            "Jumlah total kasus COVID-19 di DKI Jakarta : 859203\n"
          ]
        }
      ]
    },
    {
      "cell_type": "markdown",
      "metadata": {
        "id": "NATJH-bL8sKO"
      },
      "source": [
        "### **Berapa persentase kematian akibat COVID-19 di DKI Jakarta?**"
      ]
    },
    {
      "cell_type": "code",
      "metadata": {
        "id": "ePNaJPpo8e-6",
        "colab": {
          "base_uri": "https://localhost:8080/"
        },
        "outputId": "11fe7114-d19a-477b-92a0-bb2cedf1a09c"
      },
      "source": [
        "print('Persentase kematian akibat COVID-19 di DKI Jakarta : %f.2%%' %cov_dki_raw['meninggal_persen'])"
      ],
      "execution_count": 434,
      "outputs": [
        {
          "output_type": "stream",
          "name": "stdout",
          "text": [
            "Persentase kematian akibat COVID-19 di DKI Jakarta : 1.578789.2%\n"
          ]
        }
      ]
    },
    {
      "cell_type": "markdown",
      "metadata": {
        "id": "R3BVYSZa8uxV"
      },
      "source": [
        "### **Berapa persentase tingkat kesembuhan dari COVID-19 di DKI Jakarta?**"
      ]
    },
    {
      "cell_type": "code",
      "metadata": {
        "id": "LntMeozw8lJ2",
        "colab": {
          "base_uri": "https://localhost:8080/"
        },
        "outputId": "3a1adda2-c996-4252-d889-074ca2ec088f"
      },
      "source": [
        "print('Persentase tingkat kesembuhan dari COVID-19 di DKI Jakarta : %f.2%%' %cov_dki_raw['sembuh_persen'])"
      ],
      "execution_count": 435,
      "outputs": [
        {
          "output_type": "stream",
          "name": "stdout",
          "text": [
            "Persentase tingkat kesembuhan dari COVID-19 di DKI Jakarta : 98.237669.2%\n"
          ]
        }
      ]
    },
    {
      "cell_type": "markdown",
      "metadata": {
        "id": "PfCgB_hp_hOi"
      },
      "source": [
        "Kita dapat mengakses data perkembangan COVID-19 dari waktu ke waktu yang juga disediakan oleh covid19.go.id melalui permintaan API yang telah Anda buat sebelumnya. Data historis perkembangan COVID-19 tersebut tersimpan dengan nama `list_perkembangan`."
      ]
    },
    {
      "cell_type": "code",
      "metadata": {
        "id": "2HWFHLbT_SCd",
        "colab": {
          "base_uri": "https://localhost:8080/"
        },
        "outputId": "da731af1-7ac2-4ae9-82bd-714213350407"
      },
      "source": [
        "cov_dki = pd.DataFrame(cov_dki_raw['list_perkembangan'])\n",
        "print('Info cov_dki:\\n', cov_dki.info())"
      ],
      "execution_count": 436,
      "outputs": [
        {
          "output_type": "stream",
          "name": "stdout",
          "text": [
            "<class 'pandas.core.frame.DataFrame'>\n",
            "RangeIndex: 590 entries, 0 to 589\n",
            "Data columns (total 9 columns):\n",
            " #   Column                        Non-Null Count  Dtype\n",
            "---  ------                        --------------  -----\n",
            " 0   tanggal                       590 non-null    int64\n",
            " 1   KASUS                         590 non-null    int64\n",
            " 2   MENINGGAL                     590 non-null    int64\n",
            " 3   SEMBUH                        590 non-null    int64\n",
            " 4   DIRAWAT_OR_ISOLASI            590 non-null    int64\n",
            " 5   AKUMULASI_KASUS               590 non-null    int64\n",
            " 6   AKUMULASI_SEMBUH              590 non-null    int64\n",
            " 7   AKUMULASI_MENINGGAL           590 non-null    int64\n",
            " 8   AKUMULASI_DIRAWAT_OR_ISOLASI  590 non-null    int64\n",
            "dtypes: int64(9)\n",
            "memory usage: 41.6 KB\n",
            "Info cov_dki:\n",
            " None\n"
          ]
        }
      ]
    },
    {
      "cell_type": "code",
      "metadata": {
        "id": "tDYteMhv_35r",
        "colab": {
          "base_uri": "https://localhost:8080/",
          "height": 224
        },
        "outputId": "7bd38083-d414-4a75-9081-57842b27605a"
      },
      "source": [
        "cov_dki.head()"
      ],
      "execution_count": 437,
      "outputs": [
        {
          "output_type": "execute_result",
          "data": {
            "text/html": [
              "<div>\n",
              "<style scoped>\n",
              "    .dataframe tbody tr th:only-of-type {\n",
              "        vertical-align: middle;\n",
              "    }\n",
              "\n",
              "    .dataframe tbody tr th {\n",
              "        vertical-align: top;\n",
              "    }\n",
              "\n",
              "    .dataframe thead th {\n",
              "        text-align: right;\n",
              "    }\n",
              "</style>\n",
              "<table border=\"1\" class=\"dataframe\">\n",
              "  <thead>\n",
              "    <tr style=\"text-align: right;\">\n",
              "      <th></th>\n",
              "      <th>tanggal</th>\n",
              "      <th>KASUS</th>\n",
              "      <th>MENINGGAL</th>\n",
              "      <th>SEMBUH</th>\n",
              "      <th>DIRAWAT_OR_ISOLASI</th>\n",
              "      <th>AKUMULASI_KASUS</th>\n",
              "      <th>AKUMULASI_SEMBUH</th>\n",
              "      <th>AKUMULASI_MENINGGAL</th>\n",
              "      <th>AKUMULASI_DIRAWAT_OR_ISOLASI</th>\n",
              "    </tr>\n",
              "  </thead>\n",
              "  <tbody>\n",
              "    <tr>\n",
              "      <th>0</th>\n",
              "      <td>1583020800000</td>\n",
              "      <td>2</td>\n",
              "      <td>0</td>\n",
              "      <td>0</td>\n",
              "      <td>2</td>\n",
              "      <td>2</td>\n",
              "      <td>0</td>\n",
              "      <td>0</td>\n",
              "      <td>2</td>\n",
              "    </tr>\n",
              "    <tr>\n",
              "      <th>1</th>\n",
              "      <td>1583107200000</td>\n",
              "      <td>2</td>\n",
              "      <td>0</td>\n",
              "      <td>0</td>\n",
              "      <td>2</td>\n",
              "      <td>4</td>\n",
              "      <td>0</td>\n",
              "      <td>0</td>\n",
              "      <td>4</td>\n",
              "    </tr>\n",
              "    <tr>\n",
              "      <th>2</th>\n",
              "      <td>1583193600000</td>\n",
              "      <td>2</td>\n",
              "      <td>0</td>\n",
              "      <td>0</td>\n",
              "      <td>2</td>\n",
              "      <td>6</td>\n",
              "      <td>0</td>\n",
              "      <td>0</td>\n",
              "      <td>6</td>\n",
              "    </tr>\n",
              "    <tr>\n",
              "      <th>3</th>\n",
              "      <td>1583280000000</td>\n",
              "      <td>2</td>\n",
              "      <td>0</td>\n",
              "      <td>0</td>\n",
              "      <td>2</td>\n",
              "      <td>8</td>\n",
              "      <td>0</td>\n",
              "      <td>0</td>\n",
              "      <td>8</td>\n",
              "    </tr>\n",
              "    <tr>\n",
              "      <th>4</th>\n",
              "      <td>1583366400000</td>\n",
              "      <td>0</td>\n",
              "      <td>1</td>\n",
              "      <td>0</td>\n",
              "      <td>-1</td>\n",
              "      <td>8</td>\n",
              "      <td>0</td>\n",
              "      <td>1</td>\n",
              "      <td>7</td>\n",
              "    </tr>\n",
              "  </tbody>\n",
              "</table>\n",
              "</div>"
            ],
            "text/plain": [
              "         tanggal  KASUS  ...  AKUMULASI_MENINGGAL  AKUMULASI_DIRAWAT_OR_ISOLASI\n",
              "0  1583020800000      2  ...                    0                             2\n",
              "1  1583107200000      2  ...                    0                             4\n",
              "2  1583193600000      2  ...                    0                             6\n",
              "3  1583280000000      2  ...                    0                             8\n",
              "4  1583366400000      0  ...                    1                             7\n",
              "\n",
              "[5 rows x 9 columns]"
            ]
          },
          "metadata": {},
          "execution_count": 437
        }
      ]
    },
    {
      "cell_type": "markdown",
      "metadata": {
        "id": "-c_GVtkWAIuE"
      },
      "source": [
        "## **Data Preprocessing**"
      ]
    },
    {
      "cell_type": "markdown",
      "metadata": {
        "id": "vZilDdpsANVU"
      },
      "source": [
        "- Menghapus kolom `DIRAWAT_OR_ISOLASI` dan semua kolom yang berisi nilai kumulatif\n",
        "- Merubah format penulisan semua kolom menjadi huruf kecil\n",
        "- Mengganti nama kolom `kasus` menjadi `kasus_baru`\n",
        "- Memperbaiki tipe data pada kolom tanggal menggunakan `pd.to_datetime`"
      ]
    },
    {
      "cell_type": "code",
      "metadata": {
        "id": "VXlVGwf8ALI-",
        "colab": {
          "base_uri": "https://localhost:8080/"
        },
        "outputId": "df3fcca1-7a7b-42bb-fbf8-9a6f7cc9a401"
      },
      "source": [
        "cov_dki_tidy = (cov_dki.drop(columns=[item for item in cov_dki.columns \n",
        "                                               if item.startswith('AKUMULASI') \n",
        "                                                  or item.startswith('DIRAWAT')])\n",
        "                           .rename(columns=str.lower)\n",
        "                           .rename(columns={'kasus': 'kasus_baru'})\n",
        "                  )\n",
        "cov_dki_tidy['tanggal'] = pd.to_datetime(cov_dki_tidy['tanggal']*1e6, unit='ns')\n",
        "print('Lima data teratas:\\n', cov_dki_tidy.head())\n",
        "print('\\nLima data terakhir:\\n', cov_dki_tidy.tail())"
      ],
      "execution_count": 438,
      "outputs": [
        {
          "output_type": "stream",
          "name": "stdout",
          "text": [
            "Lima data teratas:\n",
            "      tanggal  kasus_baru  meninggal  sembuh\n",
            "0 2020-03-01           2          0       0\n",
            "1 2020-03-02           2          0       0\n",
            "2 2020-03-03           2          0       0\n",
            "3 2020-03-04           2          0       0\n",
            "4 2020-03-05           0          1       0\n",
            "\n",
            "Lima data terakhir:\n",
            "        tanggal  kasus_baru  meninggal  sembuh\n",
            "585 2021-10-07         150          1     100\n",
            "586 2021-10-08         150          0     309\n",
            "587 2021-10-09         100          2       0\n",
            "588 2021-10-10         140          3      69\n",
            "589 2021-10-11          41          0     200\n"
          ]
        }
      ]
    },
    {
      "cell_type": "markdown",
      "metadata": {
        "id": "lNWFYpgKFIfV"
      },
      "source": [
        "# **Data Preprocessing**"
      ]
    },
    {
      "cell_type": "code",
      "metadata": {
        "id": "SNN6vD1WnsUv",
        "colab": {
          "base_uri": "https://localhost:8080/"
        },
        "outputId": "65c1d538-dc22-40a4-9f28-f5f494fb6e1a"
      },
      "source": [
        "cov_dki_tidy.info()"
      ],
      "execution_count": 439,
      "outputs": [
        {
          "output_type": "stream",
          "name": "stdout",
          "text": [
            "<class 'pandas.core.frame.DataFrame'>\n",
            "RangeIndex: 590 entries, 0 to 589\n",
            "Data columns (total 4 columns):\n",
            " #   Column      Non-Null Count  Dtype         \n",
            "---  ------      --------------  -----         \n",
            " 0   tanggal     590 non-null    datetime64[ns]\n",
            " 1   kasus_baru  590 non-null    int64         \n",
            " 2   meninggal   590 non-null    int64         \n",
            " 3   sembuh      590 non-null    int64         \n",
            "dtypes: datetime64[ns](1), int64(3)\n",
            "memory usage: 18.6 KB\n"
          ]
        }
      ]
    },
    {
      "cell_type": "code",
      "metadata": {
        "id": "xeg-M_YzE7oc",
        "colab": {
          "base_uri": "https://localhost:8080/"
        },
        "outputId": "722bec90-2eea-438d-f818-9a2be3077d6c"
      },
      "source": [
        "#Checking Missing Values\n",
        "cov_dki_tidy.isnull().sum()"
      ],
      "execution_count": 440,
      "outputs": [
        {
          "output_type": "execute_result",
          "data": {
            "text/plain": [
              "tanggal       0\n",
              "kasus_baru    0\n",
              "meninggal     0\n",
              "sembuh        0\n",
              "dtype: int64"
            ]
          },
          "metadata": {},
          "execution_count": 440
        }
      ]
    },
    {
      "cell_type": "code",
      "metadata": {
        "id": "ia7r1iA1BEeB",
        "colab": {
          "base_uri": "https://localhost:8080/",
          "height": 341
        },
        "outputId": "13c75004-5d54-4bc7-fa3a-ba2be8e5f0ff"
      },
      "source": [
        "#Plotting dataset 'Open' and dates\n",
        "plt.figure(figsize=(15,5))\n",
        "plt.plot(cov_dki_tidy['tanggal'], cov_dki_tidy['kasus_baru'])\n",
        "plt.title('Grafik Penambahan Kasus Baru di DKI Jakarta', fontsize=20);"
      ],
      "execution_count": 441,
      "outputs": [
        {
          "output_type": "display_data",
          "data": {
            "image/png": "[encoded data removed]",
            "text/plain": [
              "<Figure size 1080x360 with 1 Axes>"
            ]
          },
          "metadata": {
            "needs_background": "light"
          }
        }
      ]
    },
    {
      "cell_type": "code",
      "metadata": {
        "colab": {
          "base_uri": "https://localhost:8080/",
          "height": 342
        },
        "id": "19yPwdpdOB5U",
        "outputId": "5705dc4f-17a6-4f14-91cc-d5e2f7011bee"
      },
      "source": [
        "tanggal = cov_dki_tidy['tanggal'].values\n",
        "kasus  = cov_dki_tidy['kasus_baru'].values\n",
        "kasus = [float(i) for i in kasus]\n",
        "\n",
        "#Plotting dataset 'kasus_baru' and 'tanggal'\n",
        "plt.figure(figsize=(30,10))\n",
        "plt.plot(tanggal, kasus)\n",
        "plt.title('Grafik Penambahan Kasus Baru di DKI Jakarta', fontsize=20);"
      ],
      "execution_count": 442,
      "outputs": [
        {
          "output_type": "display_data",
          "data": {
            "image/png": "[encoded data removed]",
            "text/plain": [
              "<Figure size 2160x720 with 1 Axes>"
            ]
          },
          "metadata": {
            "needs_background": "light"
          }
        }
      ]
    },
    {
      "cell_type": "markdown",
      "metadata": {
        "id": "DySjojtG1wAA"
      },
      "source": [
        "# **Modelling**"
      ]
    },
    {
      "cell_type": "code",
      "metadata": {
        "colab": {
          "base_uri": "https://localhost:8080/",
          "height": 419
        },
        "id": "jc6mSLOY6QxS",
        "outputId": "49685ff2-dfb1-4c0a-f7a4-c990bed814d9"
      },
      "source": [
        "df = cov_dki_tidy[['tanggal', 'kasus_baru']]\n",
        "df"
      ],
      "execution_count": 443,
      "outputs": [
        {
          "output_type": "execute_result",
          "data": {
            "text/html": [
              "<div>\n",
              "<style scoped>\n",
              "    .dataframe tbody tr th:only-of-type {\n",
              "        vertical-align: middle;\n",
              "    }\n",
              "\n",
              "    .dataframe tbody tr th {\n",
              "        vertical-align: top;\n",
              "    }\n",
              "\n",
              "    .dataframe thead th {\n",
              "        text-align: right;\n",
              "    }\n",
              "</style>\n",
              "<table border=\"1\" class=\"dataframe\">\n",
              "  <thead>\n",
              "    <tr style=\"text-align: right;\">\n",
              "      <th></th>\n",
              "      <th>tanggal</th>\n",
              "      <th>kasus_baru</th>\n",
              "    </tr>\n",
              "  </thead>\n",
              "  <tbody>\n",
              "    <tr>\n",
              "      <th>0</th>\n",
              "      <td>2020-03-01</td>\n",
              "      <td>2</td>\n",
              "    </tr>\n",
              "    <tr>\n",
              "      <th>1</th>\n",
              "      <td>2020-03-02</td>\n",
              "      <td>2</td>\n",
              "    </tr>\n",
              "    <tr>\n",
              "      <th>2</th>\n",
              "      <td>2020-03-03</td>\n",
              "      <td>2</td>\n",
              "    </tr>\n",
              "    <tr>\n",
              "      <th>3</th>\n",
              "      <td>2020-03-04</td>\n",
              "      <td>2</td>\n",
              "    </tr>\n",
              "    <tr>\n",
              "      <th>4</th>\n",
              "      <td>2020-03-05</td>\n",
              "      <td>0</td>\n",
              "    </tr>\n",
              "    <tr>\n",
              "      <th>...</th>\n",
              "      <td>...</td>\n",
              "      <td>...</td>\n",
              "    </tr>\n",
              "    <tr>\n",
              "      <th>585</th>\n",
              "      <td>2021-10-07</td>\n",
              "      <td>150</td>\n",
              "    </tr>\n",
              "    <tr>\n",
              "      <th>586</th>\n",
              "      <td>2021-10-08</td>\n",
              "      <td>150</td>\n",
              "    </tr>\n",
              "    <tr>\n",
              "      <th>587</th>\n",
              "      <td>2021-10-09</td>\n",
              "      <td>100</td>\n",
              "    </tr>\n",
              "    <tr>\n",
              "      <th>588</th>\n",
              "      <td>2021-10-10</td>\n",
              "      <td>140</td>\n",
              "    </tr>\n",
              "    <tr>\n",
              "      <th>589</th>\n",
              "      <td>2021-10-11</td>\n",
              "      <td>41</td>\n",
              "    </tr>\n",
              "  </tbody>\n",
              "</table>\n",
              "<p>590 rows × 2 columns</p>\n",
              "</div>"
            ],
            "text/plain": [
              "       tanggal  kasus_baru\n",
              "0   2020-03-01           2\n",
              "1   2020-03-02           2\n",
              "2   2020-03-03           2\n",
              "3   2020-03-04           2\n",
              "4   2020-03-05           0\n",
              "..         ...         ...\n",
              "585 2021-10-07         150\n",
              "586 2021-10-08         150\n",
              "587 2021-10-09         100\n",
              "588 2021-10-10         140\n",
              "589 2021-10-11          41\n",
              "\n",
              "[590 rows x 2 columns]"
            ]
          },
          "metadata": {},
          "execution_count": 443
        }
      ]
    },
    {
      "cell_type": "code",
      "metadata": {
        "colab": {
          "base_uri": "https://localhost:8080/",
          "height": 419
        },
        "id": "1BdsUTc97Rw8",
        "outputId": "f99f473f-1d6a-4f72-f527-d60c33717ee5"
      },
      "source": [
        "df.columns = ['ds', 'y']\n",
        "df"
      ],
      "execution_count": 444,
      "outputs": [
        {
          "output_type": "execute_result",
          "data": {
            "text/html": [
              "<div>\n",
              "<style scoped>\n",
              "    .dataframe tbody tr th:only-of-type {\n",
              "        vertical-align: middle;\n",
              "    }\n",
              "\n",
              "    .dataframe tbody tr th {\n",
              "        vertical-align: top;\n",
              "    }\n",
              "\n",
              "    .dataframe thead th {\n",
              "        text-align: right;\n",
              "    }\n",
              "</style>\n",
              "<table border=\"1\" class=\"dataframe\">\n",
              "  <thead>\n",
              "    <tr style=\"text-align: right;\">\n",
              "      <th></th>\n",
              "      <th>ds</th>\n",
              "      <th>y</th>\n",
              "    </tr>\n",
              "  </thead>\n",
              "  <tbody>\n",
              "    <tr>\n",
              "      <th>0</th>\n",
              "      <td>2020-03-01</td>\n",
              "      <td>2</td>\n",
              "    </tr>\n",
              "    <tr>\n",
              "      <th>1</th>\n",
              "      <td>2020-03-02</td>\n",
              "      <td>2</td>\n",
              "    </tr>\n",
              "    <tr>\n",
              "      <th>2</th>\n",
              "      <td>2020-03-03</td>\n",
              "      <td>2</td>\n",
              "    </tr>\n",
              "    <tr>\n",
              "      <th>3</th>\n",
              "      <td>2020-03-04</td>\n",
              "      <td>2</td>\n",
              "    </tr>\n",
              "    <tr>\n",
              "      <th>4</th>\n",
              "      <td>2020-03-05</td>\n",
              "      <td>0</td>\n",
              "    </tr>\n",
              "    <tr>\n",
              "      <th>...</th>\n",
              "      <td>...</td>\n",
              "      <td>...</td>\n",
              "    </tr>\n",
              "    <tr>\n",
              "      <th>585</th>\n",
              "      <td>2021-10-07</td>\n",
              "      <td>150</td>\n",
              "    </tr>\n",
              "    <tr>\n",
              "      <th>586</th>\n",
              "      <td>2021-10-08</td>\n",
              "      <td>150</td>\n",
              "    </tr>\n",
              "    <tr>\n",
              "      <th>587</th>\n",
              "      <td>2021-10-09</td>\n",
              "      <td>100</td>\n",
              "    </tr>\n",
              "    <tr>\n",
              "      <th>588</th>\n",
              "      <td>2021-10-10</td>\n",
              "      <td>140</td>\n",
              "    </tr>\n",
              "    <tr>\n",
              "      <th>589</th>\n",
              "      <td>2021-10-11</td>\n",
              "      <td>41</td>\n",
              "    </tr>\n",
              "  </tbody>\n",
              "</table>\n",
              "<p>590 rows × 2 columns</p>\n",
              "</div>"
            ],
            "text/plain": [
              "            ds    y\n",
              "0   2020-03-01    2\n",
              "1   2020-03-02    2\n",
              "2   2020-03-03    2\n",
              "3   2020-03-04    2\n",
              "4   2020-03-05    0\n",
              "..         ...  ...\n",
              "585 2021-10-07  150\n",
              "586 2021-10-08  150\n",
              "587 2021-10-09  100\n",
              "588 2021-10-10  140\n",
              "589 2021-10-11   41\n",
              "\n",
              "[590 rows x 2 columns]"
            ]
          },
          "metadata": {},
          "execution_count": 444
        }
      ]
    },
    {
      "cell_type": "code",
      "metadata": {
        "colab": {
          "base_uri": "https://localhost:8080/"
        },
        "id": "bjJDw1C72jc3",
        "outputId": "0416fcd4-3a94-4792-9119-b703ded66a93"
      },
      "source": [
        "#Python\n",
        "df.loc[(df['y'] > 5000), 'y'] = None"
      ],
      "execution_count": 445,
      "outputs": [
        {
          "output_type": "stream",
          "name": "stderr",
          "text": [
            "/usr/local/lib/python3.7/dist-packages/pandas/core/indexing.py:1763: SettingWithCopyWarning:\n",
            "\n",
            "\n",
            "A value is trying to be set on a copy of a slice from a DataFrame.\n",
            "Try using .loc[row_indexer,col_indexer] = value instead\n",
            "\n",
            "See the caveats in the documentation: https://pandas.pydata.org/pandas-docs/stable/user_guide/indexing.html#returning-a-view-versus-a-copy\n",
            "\n"
          ]
        }
      ]
    },
    {
      "cell_type": "code",
      "metadata": {
        "id": "Mn0hl1HugsZc"
      },
      "source": [
        "model = Prophet()"
      ],
      "execution_count": 446,
      "outputs": []
    },
    {
      "cell_type": "code",
      "metadata": {
        "colab": {
          "base_uri": "https://localhost:8080/"
        },
        "id": "SwppTGLW6Fqq",
        "outputId": "a36fb682-c6b3-47a4-955a-c54cf404f045"
      },
      "source": [
        "#model = Prophet()\n",
        "model.fit(df)"
      ],
      "execution_count": 447,
      "outputs": [
        {
          "output_type": "stream",
          "name": "stderr",
          "text": [
            "INFO:fbprophet:Disabling yearly seasonality. Run prophet with yearly_seasonality=True to override this.\n",
            "INFO:fbprophet:Disabling daily seasonality. Run prophet with daily_seasonality=True to override this.\n"
          ]
        },
        {
          "output_type": "execute_result",
          "data": {
            "text/plain": [
              "<fbprophet.forecaster.Prophet at 0x7f1bb67648d0>"
            ]
          },
          "metadata": {},
          "execution_count": 447
        }
      ]
    },
    {
      "cell_type": "code",
      "metadata": {
        "colab": {
          "base_uri": "https://localhost:8080/",
          "height": 204
        },
        "id": "dFA9-fDE7gkh",
        "outputId": "dcef4e7f-0b96-4188-bc40-7725ceeee1ab"
      },
      "source": [
        "future_dates = model.make_future_dataframe(periods = 180)\n",
        "future_dates.tail()"
      ],
      "execution_count": 448,
      "outputs": [
        {
          "output_type": "execute_result",
          "data": {
            "text/html": [
              "<div>\n",
              "<style scoped>\n",
              "    .dataframe tbody tr th:only-of-type {\n",
              "        vertical-align: middle;\n",
              "    }\n",
              "\n",
              "    .dataframe tbody tr th {\n",
              "        vertical-align: top;\n",
              "    }\n",
              "\n",
              "    .dataframe thead th {\n",
              "        text-align: right;\n",
              "    }\n",
              "</style>\n",
              "<table border=\"1\" class=\"dataframe\">\n",
              "  <thead>\n",
              "    <tr style=\"text-align: right;\">\n",
              "      <th></th>\n",
              "      <th>ds</th>\n",
              "    </tr>\n",
              "  </thead>\n",
              "  <tbody>\n",
              "    <tr>\n",
              "      <th>765</th>\n",
              "      <td>2022-04-05</td>\n",
              "    </tr>\n",
              "    <tr>\n",
              "      <th>766</th>\n",
              "      <td>2022-04-06</td>\n",
              "    </tr>\n",
              "    <tr>\n",
              "      <th>767</th>\n",
              "      <td>2022-04-07</td>\n",
              "    </tr>\n",
              "    <tr>\n",
              "      <th>768</th>\n",
              "      <td>2022-04-08</td>\n",
              "    </tr>\n",
              "    <tr>\n",
              "      <th>769</th>\n",
              "      <td>2022-04-09</td>\n",
              "    </tr>\n",
              "  </tbody>\n",
              "</table>\n",
              "</div>"
            ],
            "text/plain": [
              "            ds\n",
              "765 2022-04-05\n",
              "766 2022-04-06\n",
              "767 2022-04-07\n",
              "768 2022-04-08\n",
              "769 2022-04-09"
            ]
          },
          "metadata": {},
          "execution_count": 448
        }
      ]
    },
    {
      "cell_type": "code",
      "metadata": {
        "id": "WkNKSydv8E0P"
      },
      "source": [
        "prediction = model.predict(future_dates)"
      ],
      "execution_count": 449,
      "outputs": []
    },
    {
      "cell_type": "code",
      "metadata": {
        "colab": {
          "base_uri": "https://localhost:8080/",
          "height": 609
        },
        "id": "zEWZC_vg8ReZ",
        "outputId": "614ac2d1-aee9-4b4a-d6c3-b8c334030f0e"
      },
      "source": [
        "prediction"
      ],
      "execution_count": 450,
      "outputs": [
        {
          "output_type": "execute_result",
          "data": {
            "text/html": [
              "<div>\n",
              "<style scoped>\n",
              "    .dataframe tbody tr th:only-of-type {\n",
              "        vertical-align: middle;\n",
              "    }\n",
              "\n",
              "    .dataframe tbody tr th {\n",
              "        vertical-align: top;\n",
              "    }\n",
              "\n",
              "    .dataframe thead th {\n",
              "        text-align: right;\n",
              "    }\n",
              "</style>\n",
              "<table border=\"1\" class=\"dataframe\">\n",
              "  <thead>\n",
              "    <tr style=\"text-align: right;\">\n",
              "      <th></th>\n",
              "      <th>ds</th>\n",
              "      <th>trend</th>\n",
              "      <th>yhat_lower</th>\n",
              "      <th>yhat_upper</th>\n",
              "      <th>trend_lower</th>\n",
              "      <th>trend_upper</th>\n",
              "      <th>additive_terms</th>\n",
              "      <th>additive_terms_lower</th>\n",
              "      <th>additive_terms_upper</th>\n",
              "      <th>weekly</th>\n",
              "      <th>weekly_lower</th>\n",
              "      <th>weekly_upper</th>\n",
              "      <th>multiplicative_terms</th>\n",
              "      <th>multiplicative_terms_lower</th>\n",
              "      <th>multiplicative_terms_upper</th>\n",
              "      <th>yhat</th>\n",
              "    </tr>\n",
              "  </thead>\n",
              "  <tbody>\n",
              "    <tr>\n",
              "      <th>0</th>\n",
              "      <td>2020-03-01</td>\n",
              "      <td>-283.506887</td>\n",
              "      <td>-1158.260081</td>\n",
              "      <td>611.679533</td>\n",
              "      <td>-283.506887</td>\n",
              "      <td>-283.506887</td>\n",
              "      <td>31.150523</td>\n",
              "      <td>31.150523</td>\n",
              "      <td>31.150523</td>\n",
              "      <td>31.150523</td>\n",
              "      <td>31.150523</td>\n",
              "      <td>31.150523</td>\n",
              "      <td>0.0</td>\n",
              "      <td>0.0</td>\n",
              "      <td>0.0</td>\n",
              "      <td>-252.356364</td>\n",
              "    </tr>\n",
              "    <tr>\n",
              "      <th>1</th>\n",
              "      <td>2020-03-02</td>\n",
              "      <td>-277.528311</td>\n",
              "      <td>-1144.023842</td>\n",
              "      <td>599.067873</td>\n",
              "      <td>-277.528311</td>\n",
              "      <td>-277.528311</td>\n",
              "      <td>-42.476421</td>\n",
              "      <td>-42.476421</td>\n",
              "      <td>-42.476421</td>\n",
              "      <td>-42.476421</td>\n",
              "      <td>-42.476421</td>\n",
              "      <td>-42.476421</td>\n",
              "      <td>0.0</td>\n",
              "      <td>0.0</td>\n",
              "      <td>0.0</td>\n",
              "      <td>-320.004732</td>\n",
              "    </tr>\n",
              "    <tr>\n",
              "      <th>2</th>\n",
              "      <td>2020-03-03</td>\n",
              "      <td>-271.549734</td>\n",
              "      <td>-1402.257459</td>\n",
              "      <td>413.524850</td>\n",
              "      <td>-271.549734</td>\n",
              "      <td>-271.549734</td>\n",
              "      <td>-158.644464</td>\n",
              "      <td>-158.644464</td>\n",
              "      <td>-158.644464</td>\n",
              "      <td>-158.644464</td>\n",
              "      <td>-158.644464</td>\n",
              "      <td>-158.644464</td>\n",
              "      <td>0.0</td>\n",
              "      <td>0.0</td>\n",
              "      <td>0.0</td>\n",
              "      <td>-430.194198</td>\n",
              "    </tr>\n",
              "    <tr>\n",
              "      <th>3</th>\n",
              "      <td>2020-03-04</td>\n",
              "      <td>-265.571158</td>\n",
              "      <td>-1223.693304</td>\n",
              "      <td>672.616925</td>\n",
              "      <td>-265.571158</td>\n",
              "      <td>-265.571158</td>\n",
              "      <td>-13.132148</td>\n",
              "      <td>-13.132148</td>\n",
              "      <td>-13.132148</td>\n",
              "      <td>-13.132148</td>\n",
              "      <td>-13.132148</td>\n",
              "      <td>-13.132148</td>\n",
              "      <td>0.0</td>\n",
              "      <td>0.0</td>\n",
              "      <td>0.0</td>\n",
              "      <td>-278.703305</td>\n",
              "    </tr>\n",
              "    <tr>\n",
              "      <th>4</th>\n",
              "      <td>2020-03-05</td>\n",
              "      <td>-259.592581</td>\n",
              "      <td>-1096.460541</td>\n",
              "      <td>681.001512</td>\n",
              "      <td>-259.592581</td>\n",
              "      <td>-259.592581</td>\n",
              "      <td>50.000917</td>\n",
              "      <td>50.000917</td>\n",
              "      <td>50.000917</td>\n",
              "      <td>50.000917</td>\n",
              "      <td>50.000917</td>\n",
              "      <td>50.000917</td>\n",
              "      <td>0.0</td>\n",
              "      <td>0.0</td>\n",
              "      <td>0.0</td>\n",
              "      <td>-209.591664</td>\n",
              "    </tr>\n",
              "    <tr>\n",
              "      <th>...</th>\n",
              "      <td>...</td>\n",
              "      <td>...</td>\n",
              "      <td>...</td>\n",
              "      <td>...</td>\n",
              "      <td>...</td>\n",
              "      <td>...</td>\n",
              "      <td>...</td>\n",
              "      <td>...</td>\n",
              "      <td>...</td>\n",
              "      <td>...</td>\n",
              "      <td>...</td>\n",
              "      <td>...</td>\n",
              "      <td>...</td>\n",
              "      <td>...</td>\n",
              "      <td>...</td>\n",
              "      <td>...</td>\n",
              "    </tr>\n",
              "    <tr>\n",
              "      <th>765</th>\n",
              "      <td>2022-04-05</td>\n",
              "      <td>-297.380619</td>\n",
              "      <td>-1463.886848</td>\n",
              "      <td>472.501747</td>\n",
              "      <td>-542.349465</td>\n",
              "      <td>-25.299535</td>\n",
              "      <td>-158.644464</td>\n",
              "      <td>-158.644464</td>\n",
              "      <td>-158.644464</td>\n",
              "      <td>-158.644464</td>\n",
              "      <td>-158.644464</td>\n",
              "      <td>-158.644464</td>\n",
              "      <td>0.0</td>\n",
              "      <td>0.0</td>\n",
              "      <td>0.0</td>\n",
              "      <td>-456.025083</td>\n",
              "    </tr>\n",
              "    <tr>\n",
              "      <th>766</th>\n",
              "      <td>2022-04-06</td>\n",
              "      <td>-302.493220</td>\n",
              "      <td>-1271.093573</td>\n",
              "      <td>602.857756</td>\n",
              "      <td>-549.943297</td>\n",
              "      <td>-29.585444</td>\n",
              "      <td>-13.132148</td>\n",
              "      <td>-13.132148</td>\n",
              "      <td>-13.132148</td>\n",
              "      <td>-13.132148</td>\n",
              "      <td>-13.132148</td>\n",
              "      <td>-13.132148</td>\n",
              "      <td>0.0</td>\n",
              "      <td>0.0</td>\n",
              "      <td>0.0</td>\n",
              "      <td>-315.625367</td>\n",
              "    </tr>\n",
              "    <tr>\n",
              "      <th>767</th>\n",
              "      <td>2022-04-07</td>\n",
              "      <td>-307.605821</td>\n",
              "      <td>-1181.919820</td>\n",
              "      <td>605.573559</td>\n",
              "      <td>-557.317957</td>\n",
              "      <td>-31.870701</td>\n",
              "      <td>50.000917</td>\n",
              "      <td>50.000917</td>\n",
              "      <td>50.000917</td>\n",
              "      <td>50.000917</td>\n",
              "      <td>50.000917</td>\n",
              "      <td>50.000917</td>\n",
              "      <td>0.0</td>\n",
              "      <td>0.0</td>\n",
              "      <td>0.0</td>\n",
              "      <td>-257.604904</td>\n",
              "    </tr>\n",
              "    <tr>\n",
              "      <th>768</th>\n",
              "      <td>2022-04-08</td>\n",
              "      <td>-312.718422</td>\n",
              "      <td>-1192.084020</td>\n",
              "      <td>718.173381</td>\n",
              "      <td>-564.574165</td>\n",
              "      <td>-33.999847</td>\n",
              "      <td>54.835005</td>\n",
              "      <td>54.835005</td>\n",
              "      <td>54.835005</td>\n",
              "      <td>54.835005</td>\n",
              "      <td>54.835005</td>\n",
              "      <td>54.835005</td>\n",
              "      <td>0.0</td>\n",
              "      <td>0.0</td>\n",
              "      <td>0.0</td>\n",
              "      <td>-257.883417</td>\n",
              "    </tr>\n",
              "    <tr>\n",
              "      <th>769</th>\n",
              "      <td>2022-04-09</td>\n",
              "      <td>-317.831023</td>\n",
              "      <td>-1187.516567</td>\n",
              "      <td>747.350894</td>\n",
              "      <td>-571.142206</td>\n",
              "      <td>-36.144659</td>\n",
              "      <td>78.266587</td>\n",
              "      <td>78.266587</td>\n",
              "      <td>78.266587</td>\n",
              "      <td>78.266587</td>\n",
              "      <td>78.266587</td>\n",
              "      <td>78.266587</td>\n",
              "      <td>0.0</td>\n",
              "      <td>0.0</td>\n",
              "      <td>0.0</td>\n",
              "      <td>-239.564436</td>\n",
              "    </tr>\n",
              "  </tbody>\n",
              "</table>\n",
              "<p>770 rows × 16 columns</p>\n",
              "</div>"
            ],
            "text/plain": [
              "            ds       trend  ...  multiplicative_terms_upper        yhat\n",
              "0   2020-03-01 -283.506887  ...                         0.0 -252.356364\n",
              "1   2020-03-02 -277.528311  ...                         0.0 -320.004732\n",
              "2   2020-03-03 -271.549734  ...                         0.0 -430.194198\n",
              "3   2020-03-04 -265.571158  ...                         0.0 -278.703305\n",
              "4   2020-03-05 -259.592581  ...                         0.0 -209.591664\n",
              "..         ...         ...  ...                         ...         ...\n",
              "765 2022-04-05 -297.380619  ...                         0.0 -456.025083\n",
              "766 2022-04-06 -302.493220  ...                         0.0 -315.625367\n",
              "767 2022-04-07 -307.605821  ...                         0.0 -257.604904\n",
              "768 2022-04-08 -312.718422  ...                         0.0 -257.883417\n",
              "769 2022-04-09 -317.831023  ...                         0.0 -239.564436\n",
              "\n",
              "[770 rows x 16 columns]"
            ]
          },
          "metadata": {},
          "execution_count": 450
        }
      ]
    },
    {
      "cell_type": "code",
      "metadata": {
        "colab": {
          "base_uri": "https://localhost:8080/",
          "height": 441
        },
        "id": "qnhf-_QsAwGM",
        "outputId": "4152d770-a58b-405c-b571-0465a33e9047"
      },
      "source": [
        "from fbprophet.plot import add_changepoints_to_plot\n",
        "fig = model.plot(prediction)\n",
        "a = add_changepoints_to_plot(fig.gca(), model, prediction)"
      ],
      "execution_count": 451,
      "outputs": [
        {
          "output_type": "display_data",
          "data": {
            "image/png": "[encoded data removed]",
            "text/plain": [
              "<Figure size 720x432 with 1 Axes>"
            ]
          },
          "metadata": {}
        }
      ]
    },
    {
      "cell_type": "code",
      "metadata": {
        "colab": {
          "base_uri": "https://localhost:8080/",
          "height": 441
        },
        "id": "wRjEwyvmPfPk",
        "outputId": "404b41f8-749d-463e-e51c-4b3ddc2d0499"
      },
      "source": [
        "model.plot_components(prediction)\n",
        "plt.show()"
      ],
      "execution_count": 452,
      "outputs": [
        {
          "output_type": "display_data",
          "data": {
            "image/png": "[encoded data removed]",
            "text/plain": [
              "<Figure size 648x432 with 2 Axes>"
            ]
          },
          "metadata": {}
        }
      ]
    },
    {
      "cell_type": "code",
      "metadata": {
        "colab": {
          "base_uri": "https://localhost:8080/",
          "height": 519,
          "referenced_widgets": [
            "72587ac4bf7f4dc18a8a07d66beb4764",
            "4e8d2fd5ba4f41e591a8fba6ead2c549",
            "844cb65827fc40de9d908c2a881d533e",
            "83367808a11b49669daff57a79e5ed6a",
            "ce67883e00ee4aa9a837a4b577e6b015",
            "aa60d2acae4d419f969433e1d0d1d137",
            "d27d76ada9ea41dba6863d9efa58c45a",
            "106d198c3e7944bfb3eec8fd31ee40dd",
            "b8d416c92ce64749898274c9e8034d32",
            "05fd0a8a401846e9a160485dae831ecf",
            "307e1213d08546a789f6e192babd69fb"
          ]
        },
        "id": "24ST-7xa-YQo",
        "outputId": "c6d6b6bf-61ab-41fb-8463-b47114fa91cc"
      },
      "source": [
        "from fbprophet.diagnostics import cross_validation\n",
        "df_cv = cross_validation(model, initial='1 days', period='14 days', horizon = '7 days')\n",
        "df_cv"
      ],
      "execution_count": 458,
      "outputs": [
        {
          "output_type": "stream",
          "name": "stderr",
          "text": [
            "INFO:fbprophet:Making 41 forecasts with cutoffs between 2020-03-11 00:00:00 and 2021-10-04 00:00:00\n",
            "WARNING:fbprophet:Seasonality has period of 7 days which is larger than initial window. Consider increasing initial.\n"
          ]
        },
        {
          "output_type": "display_data",
          "data": {
            "application/vnd.jupyter.widget-view+json": {
              "model_id": "72587ac4bf7f4dc18a8a07d66beb4764",
              "version_minor": 0,
              "version_major": 2
            },
            "text/plain": [
              "  0%|          | 0/41 [00:00<?, ?it/s]"
            ]
          },
          "metadata": {}
        },
        {
          "output_type": "stream",
          "name": "stderr",
          "text": [
            "INFO:fbprophet:n_changepoints greater than number of observations. Using 7.\n",
            "INFO:fbprophet:n_changepoints greater than number of observations. Using 19.\n"
          ]
        },
        {
          "output_type": "execute_result",
          "data": {
            "text/html": [
              "<div>\n",
              "<style scoped>\n",
              "    .dataframe tbody tr th:only-of-type {\n",
              "        vertical-align: middle;\n",
              "    }\n",
              "\n",
              "    .dataframe tbody tr th {\n",
              "        vertical-align: top;\n",
              "    }\n",
              "\n",
              "    .dataframe thead th {\n",
              "        text-align: right;\n",
              "    }\n",
              "</style>\n",
              "<table border=\"1\" class=\"dataframe\">\n",
              "  <thead>\n",
              "    <tr style=\"text-align: right;\">\n",
              "      <th></th>\n",
              "      <th>ds</th>\n",
              "      <th>yhat</th>\n",
              "      <th>yhat_lower</th>\n",
              "      <th>yhat_upper</th>\n",
              "      <th>y</th>\n",
              "      <th>cutoff</th>\n",
              "    </tr>\n",
              "  </thead>\n",
              "  <tbody>\n",
              "    <tr>\n",
              "      <th>0</th>\n",
              "      <td>2020-03-12</td>\n",
              "      <td>-2.000000</td>\n",
              "      <td>-2.000000</td>\n",
              "      <td>-2.000000</td>\n",
              "      <td>2.0</td>\n",
              "      <td>2020-03-11</td>\n",
              "    </tr>\n",
              "    <tr>\n",
              "      <th>1</th>\n",
              "      <td>2020-03-13</td>\n",
              "      <td>-2.000000</td>\n",
              "      <td>-2.000000</td>\n",
              "      <td>-2.000000</td>\n",
              "      <td>4.0</td>\n",
              "      <td>2020-03-11</td>\n",
              "    </tr>\n",
              "    <tr>\n",
              "      <th>2</th>\n",
              "      <td>2020-03-14</td>\n",
              "      <td>-2.000000</td>\n",
              "      <td>-2.000000</td>\n",
              "      <td>-2.000000</td>\n",
              "      <td>2.0</td>\n",
              "      <td>2020-03-11</td>\n",
              "    </tr>\n",
              "    <tr>\n",
              "      <th>3</th>\n",
              "      <td>2020-03-15</td>\n",
              "      <td>-2.000000</td>\n",
              "      <td>-2.000000</td>\n",
              "      <td>-2.000000</td>\n",
              "      <td>8.0</td>\n",
              "      <td>2020-03-11</td>\n",
              "    </tr>\n",
              "    <tr>\n",
              "      <th>4</th>\n",
              "      <td>2020-03-16</td>\n",
              "      <td>-2.000000</td>\n",
              "      <td>-2.000000</td>\n",
              "      <td>-2.000000</td>\n",
              "      <td>2.0</td>\n",
              "      <td>2020-03-11</td>\n",
              "    </tr>\n",
              "    <tr>\n",
              "      <th>...</th>\n",
              "      <td>...</td>\n",
              "      <td>...</td>\n",
              "      <td>...</td>\n",
              "      <td>...</td>\n",
              "      <td>...</td>\n",
              "      <td>...</td>\n",
              "    </tr>\n",
              "    <tr>\n",
              "      <th>273</th>\n",
              "      <td>2021-10-07</td>\n",
              "      <td>716.765462</td>\n",
              "      <td>-206.070093</td>\n",
              "      <td>1647.463300</td>\n",
              "      <td>150.0</td>\n",
              "      <td>2021-10-04</td>\n",
              "    </tr>\n",
              "    <tr>\n",
              "      <th>274</th>\n",
              "      <td>2021-10-08</td>\n",
              "      <td>717.617091</td>\n",
              "      <td>-98.385271</td>\n",
              "      <td>1532.406869</td>\n",
              "      <td>150.0</td>\n",
              "      <td>2021-10-04</td>\n",
              "    </tr>\n",
              "    <tr>\n",
              "      <th>275</th>\n",
              "      <td>2021-10-09</td>\n",
              "      <td>737.474993</td>\n",
              "      <td>-141.779309</td>\n",
              "      <td>1672.016824</td>\n",
              "      <td>100.0</td>\n",
              "      <td>2021-10-04</td>\n",
              "    </tr>\n",
              "    <tr>\n",
              "      <th>276</th>\n",
              "      <td>2021-10-10</td>\n",
              "      <td>681.637436</td>\n",
              "      <td>-205.879164</td>\n",
              "      <td>1592.218344</td>\n",
              "      <td>140.0</td>\n",
              "      <td>2021-10-04</td>\n",
              "    </tr>\n",
              "    <tr>\n",
              "      <th>277</th>\n",
              "      <td>2021-10-11</td>\n",
              "      <td>609.060143</td>\n",
              "      <td>-245.293988</td>\n",
              "      <td>1522.163427</td>\n",
              "      <td>41.0</td>\n",
              "      <td>2021-10-04</td>\n",
              "    </tr>\n",
              "  </tbody>\n",
              "</table>\n",
              "<p>278 rows × 6 columns</p>\n",
              "</div>"
            ],
            "text/plain": [
              "            ds        yhat  yhat_lower   yhat_upper      y     cutoff\n",
              "0   2020-03-12   -2.000000   -2.000000    -2.000000    2.0 2020-03-11\n",
              "1   2020-03-13   -2.000000   -2.000000    -2.000000    4.0 2020-03-11\n",
              "2   2020-03-14   -2.000000   -2.000000    -2.000000    2.0 2020-03-11\n",
              "3   2020-03-15   -2.000000   -2.000000    -2.000000    8.0 2020-03-11\n",
              "4   2020-03-16   -2.000000   -2.000000    -2.000000    2.0 2020-03-11\n",
              "..         ...         ...         ...          ...    ...        ...\n",
              "273 2021-10-07  716.765462 -206.070093  1647.463300  150.0 2021-10-04\n",
              "274 2021-10-08  717.617091  -98.385271  1532.406869  150.0 2021-10-04\n",
              "275 2021-10-09  737.474993 -141.779309  1672.016824  100.0 2021-10-04\n",
              "276 2021-10-10  681.637436 -205.879164  1592.218344  140.0 2021-10-04\n",
              "277 2021-10-11  609.060143 -245.293988  1522.163427   41.0 2021-10-04\n",
              "\n",
              "[278 rows x 6 columns]"
            ]
          },
          "metadata": {},
          "execution_count": 458
        }
      ]
    },
    {
      "cell_type": "code",
      "metadata": {
        "colab": {
          "base_uri": "https://localhost:8080/",
          "height": 204
        },
        "id": "912Bi2LBFS2i",
        "outputId": "6adf73f9-1c51-4c7a-d2cd-faed44c18c62"
      },
      "source": [
        "from fbprophet.diagnostics import performance_metrics\n",
        "df_p = performance_metrics(df_cv)\n",
        "df_p.tail()"
      ],
      "execution_count": 459,
      "outputs": [
        {
          "output_type": "execute_result",
          "data": {
            "text/html": [
              "<div>\n",
              "<style scoped>\n",
              "    .dataframe tbody tr th:only-of-type {\n",
              "        vertical-align: middle;\n",
              "    }\n",
              "\n",
              "    .dataframe tbody tr th {\n",
              "        vertical-align: top;\n",
              "    }\n",
              "\n",
              "    .dataframe thead th {\n",
              "        text-align: right;\n",
              "    }\n",
              "</style>\n",
              "<table border=\"1\" class=\"dataframe\">\n",
              "  <thead>\n",
              "    <tr style=\"text-align: right;\">\n",
              "      <th></th>\n",
              "      <th>horizon</th>\n",
              "      <th>mse</th>\n",
              "      <th>rmse</th>\n",
              "      <th>mae</th>\n",
              "      <th>mape</th>\n",
              "      <th>mdape</th>\n",
              "      <th>coverage</th>\n",
              "    </tr>\n",
              "  </thead>\n",
              "  <tbody>\n",
              "    <tr>\n",
              "      <th>2</th>\n",
              "      <td>3 days</td>\n",
              "      <td>9.275536e+05</td>\n",
              "      <td>963.095848</td>\n",
              "      <td>560.394593</td>\n",
              "      <td>0.731625</td>\n",
              "      <td>0.344683</td>\n",
              "      <td>0.325000</td>\n",
              "    </tr>\n",
              "    <tr>\n",
              "      <th>3</th>\n",
              "      <td>4 days</td>\n",
              "      <td>4.207957e+05</td>\n",
              "      <td>648.687649</td>\n",
              "      <td>440.967875</td>\n",
              "      <td>0.685845</td>\n",
              "      <td>0.336408</td>\n",
              "      <td>0.384615</td>\n",
              "    </tr>\n",
              "    <tr>\n",
              "      <th>4</th>\n",
              "      <td>5 days</td>\n",
              "      <td>4.417873e+05</td>\n",
              "      <td>664.670799</td>\n",
              "      <td>452.228451</td>\n",
              "      <td>0.916373</td>\n",
              "      <td>0.436924</td>\n",
              "      <td>0.282051</td>\n",
              "    </tr>\n",
              "    <tr>\n",
              "      <th>5</th>\n",
              "      <td>6 days</td>\n",
              "      <td>7.280463e+05</td>\n",
              "      <td>853.256312</td>\n",
              "      <td>511.318869</td>\n",
              "      <td>0.957098</td>\n",
              "      <td>0.472332</td>\n",
              "      <td>0.450000</td>\n",
              "    </tr>\n",
              "    <tr>\n",
              "      <th>6</th>\n",
              "      <td>7 days</td>\n",
              "      <td>1.330121e+06</td>\n",
              "      <td>1153.308681</td>\n",
              "      <td>696.948145</td>\n",
              "      <td>1.265125</td>\n",
              "      <td>0.445786</td>\n",
              "      <td>0.268293</td>\n",
              "    </tr>\n",
              "  </tbody>\n",
              "</table>\n",
              "</div>"
            ],
            "text/plain": [
              "  horizon           mse         rmse         mae      mape     mdape  coverage\n",
              "2  3 days  9.275536e+05   963.095848  560.394593  0.731625  0.344683  0.325000\n",
              "3  4 days  4.207957e+05   648.687649  440.967875  0.685845  0.336408  0.384615\n",
              "4  5 days  4.417873e+05   664.670799  452.228451  0.916373  0.436924  0.282051\n",
              "5  6 days  7.280463e+05   853.256312  511.318869  0.957098  0.472332  0.450000\n",
              "6  7 days  1.330121e+06  1153.308681  696.948145  1.265125  0.445786  0.268293"
            ]
          },
          "metadata": {},
          "execution_count": 459
        }
      ]
    },
    {
      "cell_type": "code",
      "metadata": {
        "colab": {
          "base_uri": "https://localhost:8080/"
        },
        "id": "LqdqN5PuJrKn",
        "outputId": "1fb7c0cd-1f7b-4162-b088-58b454d7d1ab"
      },
      "source": [
        "minMAE = (df['y'].max() - df['y'].min()) * (10/100)\n",
        "minMAE"
      ],
      "execution_count": 460,
      "outputs": [
        {
          "output_type": "execute_result",
          "data": {
            "text/plain": [
              "500.0"
            ]
          },
          "metadata": {},
          "execution_count": 460
        }
      ]
    },
    {
      "cell_type": "code",
      "metadata": {
        "colab": {
          "base_uri": "https://localhost:8080/",
          "height": 388
        },
        "id": "_9_mo5p-Flx6",
        "outputId": "395f248b-4dc0-413f-cda1-b0b8881ef9d6"
      },
      "source": [
        "from fbprophet.plot import plot_cross_validation_metric\n",
        "fig = plot_cross_validation_metric(df_cv, metric='mae')"
      ],
      "execution_count": 461,
      "outputs": [
        {
          "output_type": "display_data",
          "data": {
            "image/png": "[encoded data removed]",
            "text/plain": [
              "<Figure size 720x432 with 1 Axes>"
            ]
          },
          "metadata": {}
        }
      ]
    },
    {
      "cell_type": "code",
      "metadata": {
        "id": "9hlWgY7icocQ",
        "colab": {
          "base_uri": "https://localhost:8080/"
        },
        "outputId": "0ddc3e17-97af-4617-abe5-e046701f53a7"
      },
      "source": [
        "print('Average MAE value : ', df_p['mae'].mean()/(df['y'].max() - df['y'].min())*100)\n",
        "print('Model Accuration Based on MAE : ', 100 - (df_p['mae'].mean())/(df['y'].max() - df['y'].min())*100)"
      ],
      "execution_count": 462,
      "outputs": [
        {
          "output_type": "stream",
          "name": "stdout",
          "text": [
            "Average MAE value :  10.090133429509649\n",
            "Model Accuration Based on MAE :  89.90986657049035\n"
          ]
        }
      ]
    }
  ]
}