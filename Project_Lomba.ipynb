{
  "nbformat": 4,
  "nbformat_minor": 0,
  "metadata": {
    "colab": {
      "name": "Project Lomba.ipynb",
      "provenance": [],
      "collapsed_sections": []
    },
    "kernelspec": {
      "name": "python3",
      "display_name": "Python 3"
    },
    "language_info": {
      "name": "python"
    }
  },
  "cells": [
    {
      "cell_type": "markdown",
      "metadata": {
        "id": "8LHbZavFDlmG"
      },
      "source": [
        "# **Topik dan Permasalahan**"
      ]
    },
    {
      "cell_type": "markdown",
      "metadata": {
        "id": "KUwWlAHhDzP4"
      },
      "source": [
        "- Apakah upaya yang dilakukan pemerintah sudah efektif?\n",
        "- Kapan mencapai titik minimum?\n",
        "- Kebijakan lain apa yang harus dilakukan pemerintah yang bisa menciptakan stabilitas di tingkat minimum?\n",
        "- Hal apa yang anda sarankan dalam mengakselerasi target pencapaian vaksin ke-2 "
      ]
    },
    {
      "cell_type": "markdown",
      "metadata": {
        "id": "mlwdD4gPYxTY"
      },
      "source": [
        "**Keterangan Kolom**"
      ]
    },
    {
      "cell_type": "markdown",
      "metadata": {
        "id": "tYfjyHP6Y05T"
      },
      "source": [
        "1. **Positif**, jumlah orang yang dinyatakan positif terinfeksi virus COVID-19 yang dibuktikan dengan pemeriksaan laboratorium RT-PCR.\n",
        "2. **Dirawat**, Jumlah orang yang terinfeksi COVID19 dan telah menjalani perawatan\n",
        "3. **Sembuh**, Jumlah orang yang telah dinyatakan sembuh dari COVID19\n",
        "4. **Meninggal**, Jumlah orang/korban yang telah meninggal dunia karena COVID19\n",
        "5. **Kontak Erat**, Jumlah orang yang memiliki kontak erat dengan kasus probable atau konfirmasi COVID19\n",
        "6. **Pelaku Perjalanan**, Jumlah orang yang melakukan perjalanan dari dalam negeri (Domestik) maupun luar negeri pada 14 hari terakhir\n",
        "7. **Suspek**, Jumlah orang dengan ISPA (Infeksi Saluran Pernapasan Akut) dan pada 14 hari terakhir sebelum timbul gejala, memiliki riwayat perjalanan atau tinggal di wilayah yang melaporkan transmisi lokal, memiliki riwayat kontak dengan kasus konfirmasi/probable COVID-19 dan memiliki ISPA/Pneumonia berat yang membutuhkan perawatan rumah sakit dan tidak ada penyebab lain.\n",
        "8. **Probable**. Jumlah orang dengan ISPA berat/ARDS (gagal napas akibat aveolu paru-paru penuh cairan) atau meninggal dengan gambaran klinis yang meyakinkan COVID-19 dan belum ada hasil pemeriksaan lab RT-PCR.\n",
        "9. **Discarded**, Jumlah orang dengan status kasus suspek dengan hasil pemeriksaan lab RT/PCR 2 kali negatif selama 2 hari berturut-turut dengan selang waktu 24 jam, dan jumlah orang dengan status kontak erat yang telah selesai masa karantina 14 hari.  "
      ]
    },
    {
      "cell_type": "markdown",
      "metadata": {
        "id": "vp_Nj_RyyMIg"
      },
      "source": [
        "# **Data 1: Data COVID-19 Maret - Oktober 2020**"
      ]
    },
    {
      "cell_type": "markdown",
      "metadata": {
        "id": "hc_80gogCNBD"
      },
      "source": [
        "## **Data Profiling**"
      ]
    },
    {
      "cell_type": "markdown",
      "metadata": {
        "id": "AwkdpZcECVfK"
      },
      "source": [
        "### **Import Libraries**"
      ]
    },
    {
      "cell_type": "code",
      "metadata": {
        "id": "cgP5jXkmCZXl"
      },
      "source": [
        "import pandas as pd\n",
        "import numpy as np"
      ],
      "execution_count": 459,
      "outputs": []
    },
    {
      "cell_type": "markdown",
      "metadata": {
        "id": "aXYJDoI4CuHL"
      },
      "source": [
        "### **Read File CSV**"
      ]
    },
    {
      "cell_type": "code",
      "metadata": {
        "colab": {
          "base_uri": "https://localhost:8080/"
        },
        "id": "XqgkdJ6tQy6E",
        "outputId": "0f6cbea1-807f-400a-d222-29567e0381a2"
      },
      "source": [
        "df1 = pd.read_csv('covid-dki-all-2020.csv', sep = ';')\n",
        "df1.info()"
      ],
      "execution_count": 460,
      "outputs": [
        {
          "output_type": "stream",
          "name": "stdout",
          "text": [
            "<class 'pandas.core.frame.DataFrame'>\n",
            "RangeIndex: 34705 entries, 0 to 34704\n",
            "Data columns (total 31 columns):\n",
            " #   Column              Non-Null Count  Dtype  \n",
            "---  ------              --------------  -----  \n",
            " 0   ID                  34705 non-null  int64  \n",
            " 1   tanggal2            34705 non-null  object \n",
            " 2   id_kel              34701 non-null  object \n",
            " 3   nama_provinsi       34701 non-null  object \n",
            " 4   nama_kota           34701 non-null  object \n",
            " 5   nama_kecamatan      34701 non-null  object \n",
            " 6   nama_kelurahan      34705 non-null  object \n",
            " 7   positif             34705 non-null  int64  \n",
            " 8   dirawat             34705 non-null  int64  \n",
            " 9   sembuh              34705 non-null  int64  \n",
            " 10  meninggal           34705 non-null  int64  \n",
            " 11  odp                 5923 non-null   object \n",
            " 12  odp_meninggal       4304 non-null   float64\n",
            " 13  proses_pemantauan   6191 non-null   float64\n",
            " 14  selesai_pemantauan  6191 non-null   float64\n",
            " 15  pdp                 6191 non-null   float64\n",
            " 16  pdp_meninggal       4304 non-null   float64\n",
            " 17  masih_dirawat       6191 non-null   float64\n",
            " 18  pulang_dan_sehat    6191 non-null   float64\n",
            " 19  kontak_erat         28514 non-null  float64\n",
            " 20  pelaku_perjalanan   28514 non-null  float64\n",
            " 21  self_isolation      34705 non-null  int64  \n",
            " 22  perawatan_rs        28514 non-null  float64\n",
            " 23  isolasi_di_rumah    28514 non-null  float64\n",
            " 24  selesai_isolasi     28514 non-null  float64\n",
            " 25  suspek              28514 non-null  float64\n",
            " 26  suspek_meninggal    28514 non-null  float64\n",
            " 27  probable            28514 non-null  float64\n",
            " 28  probable_meninggal  28514 non-null  float64\n",
            " 29  discarded           28514 non-null  float64\n",
            " 30  keterangan          272 non-null    float64\n",
            "dtypes: float64(18), int64(6), object(7)\n",
            "memory usage: 8.2+ MB\n"
          ]
        },
        {
          "output_type": "stream",
          "name": "stderr",
          "text": [
            "/usr/local/lib/python3.7/dist-packages/IPython/core/interactiveshell.py:2718: DtypeWarning: Columns (11) have mixed types.Specify dtype option on import or set low_memory=False.\n",
            "  interactivity=interactivity, compiler=compiler, result=result)\n"
          ]
        }
      ]
    },
    {
      "cell_type": "code",
      "metadata": {
        "colab": {
          "base_uri": "https://localhost:8080/",
          "height": 617
        },
        "id": "_UT_58TERJqT",
        "outputId": "fd1fc9e4-f30f-48b4-eae1-fb50b9d57928"
      },
      "source": [
        "df1"
      ],
      "execution_count": 461,
      "outputs": [
        {
          "output_type": "execute_result",
          "data": {
            "text/html": [
              "<div>\n",
              "<style scoped>\n",
              "    .dataframe tbody tr th:only-of-type {\n",
              "        vertical-align: middle;\n",
              "    }\n",
              "\n",
              "    .dataframe tbody tr th {\n",
              "        vertical-align: top;\n",
              "    }\n",
              "\n",
              "    .dataframe thead th {\n",
              "        text-align: right;\n",
              "    }\n",
              "</style>\n",
              "<table border=\"1\" class=\"dataframe\">\n",
              "  <thead>\n",
              "    <tr style=\"text-align: right;\">\n",
              "      <th></th>\n",
              "      <th>ID</th>\n",
              "      <th>tanggal2</th>\n",
              "      <th>id_kel</th>\n",
              "      <th>nama_provinsi</th>\n",
              "      <th>nama_kota</th>\n",
              "      <th>nama_kecamatan</th>\n",
              "      <th>nama_kelurahan</th>\n",
              "      <th>positif</th>\n",
              "      <th>dirawat</th>\n",
              "      <th>sembuh</th>\n",
              "      <th>meninggal</th>\n",
              "      <th>odp</th>\n",
              "      <th>odp_meninggal</th>\n",
              "      <th>proses_pemantauan</th>\n",
              "      <th>selesai_pemantauan</th>\n",
              "      <th>pdp</th>\n",
              "      <th>pdp_meninggal</th>\n",
              "      <th>masih_dirawat</th>\n",
              "      <th>pulang_dan_sehat</th>\n",
              "      <th>kontak_erat</th>\n",
              "      <th>pelaku_perjalanan</th>\n",
              "      <th>self_isolation</th>\n",
              "      <th>perawatan_rs</th>\n",
              "      <th>isolasi_di_rumah</th>\n",
              "      <th>selesai_isolasi</th>\n",
              "      <th>suspek</th>\n",
              "      <th>suspek_meninggal</th>\n",
              "      <th>probable</th>\n",
              "      <th>probable_meninggal</th>\n",
              "      <th>discarded</th>\n",
              "      <th>keterangan</th>\n",
              "    </tr>\n",
              "  </thead>\n",
              "  <tbody>\n",
              "    <tr>\n",
              "      <th>0</th>\n",
              "      <td>1</td>\n",
              "      <td>25/03/2020</td>\n",
              "      <td>3173011001</td>\n",
              "      <td>DKI JAKARTA</td>\n",
              "      <td>JAKARTA BARAT</td>\n",
              "      <td>CENGKARENG</td>\n",
              "      <td>CENGKARENG BARAT</td>\n",
              "      <td>0</td>\n",
              "      <td>0</td>\n",
              "      <td>0</td>\n",
              "      <td>0</td>\n",
              "      <td>4</td>\n",
              "      <td>NaN</td>\n",
              "      <td>1.0</td>\n",
              "      <td>3.0</td>\n",
              "      <td>0.0</td>\n",
              "      <td>NaN</td>\n",
              "      <td>0.0</td>\n",
              "      <td>0.0</td>\n",
              "      <td>NaN</td>\n",
              "      <td>NaN</td>\n",
              "      <td>0</td>\n",
              "      <td>NaN</td>\n",
              "      <td>NaN</td>\n",
              "      <td>NaN</td>\n",
              "      <td>NaN</td>\n",
              "      <td>NaN</td>\n",
              "      <td>NaN</td>\n",
              "      <td>NaN</td>\n",
              "      <td>NaN</td>\n",
              "      <td>NaN</td>\n",
              "    </tr>\n",
              "    <tr>\n",
              "      <th>1</th>\n",
              "      <td>2</td>\n",
              "      <td>25/03/2020</td>\n",
              "      <td>3173011006</td>\n",
              "      <td>DKI JAKARTA</td>\n",
              "      <td>JAKARTA BARAT</td>\n",
              "      <td>CENGKARENG</td>\n",
              "      <td>CENGKARENG TIMUR</td>\n",
              "      <td>3</td>\n",
              "      <td>3</td>\n",
              "      <td>0</td>\n",
              "      <td>0</td>\n",
              "      <td>9</td>\n",
              "      <td>NaN</td>\n",
              "      <td>3.0</td>\n",
              "      <td>6.0</td>\n",
              "      <td>3.0</td>\n",
              "      <td>NaN</td>\n",
              "      <td>3.0</td>\n",
              "      <td>0.0</td>\n",
              "      <td>NaN</td>\n",
              "      <td>NaN</td>\n",
              "      <td>0</td>\n",
              "      <td>NaN</td>\n",
              "      <td>NaN</td>\n",
              "      <td>NaN</td>\n",
              "      <td>NaN</td>\n",
              "      <td>NaN</td>\n",
              "      <td>NaN</td>\n",
              "      <td>NaN</td>\n",
              "      <td>NaN</td>\n",
              "      <td>NaN</td>\n",
              "    </tr>\n",
              "    <tr>\n",
              "      <th>2</th>\n",
              "      <td>3</td>\n",
              "      <td>25/03/2020</td>\n",
              "      <td>3173011002</td>\n",
              "      <td>DKI JAKARTA</td>\n",
              "      <td>JAKARTA BARAT</td>\n",
              "      <td>CENGKARENG</td>\n",
              "      <td>DURI KOSAMBI</td>\n",
              "      <td>2</td>\n",
              "      <td>2</td>\n",
              "      <td>0</td>\n",
              "      <td>0</td>\n",
              "      <td>4</td>\n",
              "      <td>NaN</td>\n",
              "      <td>0.0</td>\n",
              "      <td>4.0</td>\n",
              "      <td>2.0</td>\n",
              "      <td>NaN</td>\n",
              "      <td>1.0</td>\n",
              "      <td>1.0</td>\n",
              "      <td>NaN</td>\n",
              "      <td>NaN</td>\n",
              "      <td>0</td>\n",
              "      <td>NaN</td>\n",
              "      <td>NaN</td>\n",
              "      <td>NaN</td>\n",
              "      <td>NaN</td>\n",
              "      <td>NaN</td>\n",
              "      <td>NaN</td>\n",
              "      <td>NaN</td>\n",
              "      <td>NaN</td>\n",
              "      <td>NaN</td>\n",
              "    </tr>\n",
              "    <tr>\n",
              "      <th>3</th>\n",
              "      <td>4</td>\n",
              "      <td>25/03/2020</td>\n",
              "      <td>3173011005</td>\n",
              "      <td>DKI JAKARTA</td>\n",
              "      <td>JAKARTA BARAT</td>\n",
              "      <td>CENGKARENG</td>\n",
              "      <td>KAPUK</td>\n",
              "      <td>1</td>\n",
              "      <td>0</td>\n",
              "      <td>0</td>\n",
              "      <td>1</td>\n",
              "      <td>4</td>\n",
              "      <td>NaN</td>\n",
              "      <td>3.0</td>\n",
              "      <td>1.0</td>\n",
              "      <td>1.0</td>\n",
              "      <td>NaN</td>\n",
              "      <td>0.0</td>\n",
              "      <td>1.0</td>\n",
              "      <td>NaN</td>\n",
              "      <td>NaN</td>\n",
              "      <td>0</td>\n",
              "      <td>NaN</td>\n",
              "      <td>NaN</td>\n",
              "      <td>NaN</td>\n",
              "      <td>NaN</td>\n",
              "      <td>NaN</td>\n",
              "      <td>NaN</td>\n",
              "      <td>NaN</td>\n",
              "      <td>NaN</td>\n",
              "      <td>NaN</td>\n",
              "    </tr>\n",
              "    <tr>\n",
              "      <th>4</th>\n",
              "      <td>5</td>\n",
              "      <td>25/03/2020</td>\n",
              "      <td>3173011004</td>\n",
              "      <td>DKI JAKARTA</td>\n",
              "      <td>JAKARTA BARAT</td>\n",
              "      <td>CENGKARENG</td>\n",
              "      <td>KEDAUNG KALI ANGKE</td>\n",
              "      <td>0</td>\n",
              "      <td>0</td>\n",
              "      <td>0</td>\n",
              "      <td>0</td>\n",
              "      <td>2</td>\n",
              "      <td>NaN</td>\n",
              "      <td>0.0</td>\n",
              "      <td>2.0</td>\n",
              "      <td>0.0</td>\n",
              "      <td>NaN</td>\n",
              "      <td>0.0</td>\n",
              "      <td>0.0</td>\n",
              "      <td>NaN</td>\n",
              "      <td>NaN</td>\n",
              "      <td>0</td>\n",
              "      <td>NaN</td>\n",
              "      <td>NaN</td>\n",
              "      <td>NaN</td>\n",
              "      <td>NaN</td>\n",
              "      <td>NaN</td>\n",
              "      <td>NaN</td>\n",
              "      <td>NaN</td>\n",
              "      <td>NaN</td>\n",
              "      <td>NaN</td>\n",
              "    </tr>\n",
              "    <tr>\n",
              "      <th>...</th>\n",
              "      <td>...</td>\n",
              "      <td>...</td>\n",
              "      <td>...</td>\n",
              "      <td>...</td>\n",
              "      <td>...</td>\n",
              "      <td>...</td>\n",
              "      <td>...</td>\n",
              "      <td>...</td>\n",
              "      <td>...</td>\n",
              "      <td>...</td>\n",
              "      <td>...</td>\n",
              "      <td>...</td>\n",
              "      <td>...</td>\n",
              "      <td>...</td>\n",
              "      <td>...</td>\n",
              "      <td>...</td>\n",
              "      <td>...</td>\n",
              "      <td>...</td>\n",
              "      <td>...</td>\n",
              "      <td>...</td>\n",
              "      <td>...</td>\n",
              "      <td>...</td>\n",
              "      <td>...</td>\n",
              "      <td>...</td>\n",
              "      <td>...</td>\n",
              "      <td>...</td>\n",
              "      <td>...</td>\n",
              "      <td>...</td>\n",
              "      <td>...</td>\n",
              "      <td>...</td>\n",
              "      <td>...</td>\n",
              "    </tr>\n",
              "    <tr>\n",
              "      <th>34700</th>\n",
              "      <td>34701</td>\n",
              "      <td>30/11/2020</td>\n",
              "      <td>3175011006</td>\n",
              "      <td>DKI JAKARTA</td>\n",
              "      <td>JAKARTA TIMUR</td>\n",
              "      <td>MATRAMAN</td>\n",
              "      <td>UTAN KAYU SELATAN</td>\n",
              "      <td>396</td>\n",
              "      <td>2</td>\n",
              "      <td>369</td>\n",
              "      <td>0</td>\n",
              "      <td>NaN</td>\n",
              "      <td>NaN</td>\n",
              "      <td>NaN</td>\n",
              "      <td>NaN</td>\n",
              "      <td>NaN</td>\n",
              "      <td>NaN</td>\n",
              "      <td>NaN</td>\n",
              "      <td>NaN</td>\n",
              "      <td>1408.0</td>\n",
              "      <td>8.0</td>\n",
              "      <td>16</td>\n",
              "      <td>13.0</td>\n",
              "      <td>35.0</td>\n",
              "      <td>650.0</td>\n",
              "      <td>706.0</td>\n",
              "      <td>8.0</td>\n",
              "      <td>2.0</td>\n",
              "      <td>0.0</td>\n",
              "      <td>98.0</td>\n",
              "      <td>NaN</td>\n",
              "    </tr>\n",
              "    <tr>\n",
              "      <th>34701</th>\n",
              "      <td>34702</td>\n",
              "      <td>30/11/2020</td>\n",
              "      <td>3175011002</td>\n",
              "      <td>DKI JAKARTA</td>\n",
              "      <td>JAKARTA TIMUR</td>\n",
              "      <td>MATRAMAN</td>\n",
              "      <td>UTAN KAYU UTARA</td>\n",
              "      <td>338</td>\n",
              "      <td>1</td>\n",
              "      <td>305</td>\n",
              "      <td>0</td>\n",
              "      <td>NaN</td>\n",
              "      <td>NaN</td>\n",
              "      <td>NaN</td>\n",
              "      <td>NaN</td>\n",
              "      <td>NaN</td>\n",
              "      <td>NaN</td>\n",
              "      <td>NaN</td>\n",
              "      <td>NaN</td>\n",
              "      <td>1213.0</td>\n",
              "      <td>6.0</td>\n",
              "      <td>18</td>\n",
              "      <td>5.0</td>\n",
              "      <td>242.0</td>\n",
              "      <td>540.0</td>\n",
              "      <td>787.0</td>\n",
              "      <td>0.0</td>\n",
              "      <td>4.0</td>\n",
              "      <td>0.0</td>\n",
              "      <td>49.0</td>\n",
              "      <td>NaN</td>\n",
              "    </tr>\n",
              "    <tr>\n",
              "      <th>34702</th>\n",
              "      <td>34703</td>\n",
              "      <td>30/11/2020</td>\n",
              "      <td>3171031008</td>\n",
              "      <td>DKI JAKARTA</td>\n",
              "      <td>JAKARTA PUSAT</td>\n",
              "      <td>KEMAYORAN</td>\n",
              "      <td>UTAN PANJANG</td>\n",
              "      <td>355</td>\n",
              "      <td>1</td>\n",
              "      <td>332</td>\n",
              "      <td>0</td>\n",
              "      <td>NaN</td>\n",
              "      <td>NaN</td>\n",
              "      <td>NaN</td>\n",
              "      <td>NaN</td>\n",
              "      <td>NaN</td>\n",
              "      <td>NaN</td>\n",
              "      <td>NaN</td>\n",
              "      <td>NaN</td>\n",
              "      <td>782.0</td>\n",
              "      <td>4.0</td>\n",
              "      <td>12</td>\n",
              "      <td>1.0</td>\n",
              "      <td>44.0</td>\n",
              "      <td>494.0</td>\n",
              "      <td>541.0</td>\n",
              "      <td>2.0</td>\n",
              "      <td>0.0</td>\n",
              "      <td>0.0</td>\n",
              "      <td>31.0</td>\n",
              "      <td>NaN</td>\n",
              "    </tr>\n",
              "    <tr>\n",
              "      <th>34703</th>\n",
              "      <td>34704</td>\n",
              "      <td>30/11/2020</td>\n",
              "      <td>3172021007</td>\n",
              "      <td>DKI JAKARTA</td>\n",
              "      <td>JAKARTA UTARA</td>\n",
              "      <td>TANJUNG PRIOK</td>\n",
              "      <td>WARAKAS</td>\n",
              "      <td>472</td>\n",
              "      <td>4</td>\n",
              "      <td>441</td>\n",
              "      <td>0</td>\n",
              "      <td>NaN</td>\n",
              "      <td>NaN</td>\n",
              "      <td>NaN</td>\n",
              "      <td>NaN</td>\n",
              "      <td>NaN</td>\n",
              "      <td>NaN</td>\n",
              "      <td>NaN</td>\n",
              "      <td>NaN</td>\n",
              "      <td>1326.0</td>\n",
              "      <td>12.0</td>\n",
              "      <td>19</td>\n",
              "      <td>1.0</td>\n",
              "      <td>65.0</td>\n",
              "      <td>792.0</td>\n",
              "      <td>860.0</td>\n",
              "      <td>2.0</td>\n",
              "      <td>0.0</td>\n",
              "      <td>0.0</td>\n",
              "      <td>70.0</td>\n",
              "      <td>NaN</td>\n",
              "    </tr>\n",
              "    <tr>\n",
              "      <th>34704</th>\n",
              "      <td>34705</td>\n",
              "      <td>30/11/2020</td>\n",
              "      <td>3173021007</td>\n",
              "      <td>DKI JAKARTA</td>\n",
              "      <td>JAKARTA BARAT</td>\n",
              "      <td>GROGOL PETAMBURAN</td>\n",
              "      <td>WIJAYA KUSUMA</td>\n",
              "      <td>377</td>\n",
              "      <td>8</td>\n",
              "      <td>345</td>\n",
              "      <td>0</td>\n",
              "      <td>NaN</td>\n",
              "      <td>NaN</td>\n",
              "      <td>NaN</td>\n",
              "      <td>NaN</td>\n",
              "      <td>NaN</td>\n",
              "      <td>NaN</td>\n",
              "      <td>NaN</td>\n",
              "      <td>NaN</td>\n",
              "      <td>1099.0</td>\n",
              "      <td>7.0</td>\n",
              "      <td>15</td>\n",
              "      <td>1.0</td>\n",
              "      <td>39.0</td>\n",
              "      <td>519.0</td>\n",
              "      <td>561.0</td>\n",
              "      <td>2.0</td>\n",
              "      <td>1.0</td>\n",
              "      <td>0.0</td>\n",
              "      <td>24.0</td>\n",
              "      <td>NaN</td>\n",
              "    </tr>\n",
              "  </tbody>\n",
              "</table>\n",
              "<p>34705 rows × 31 columns</p>\n",
              "</div>"
            ],
            "text/plain": [
              "          ID    tanggal2      id_kel  ... probable_meninggal discarded keterangan\n",
              "0          1  25/03/2020  3173011001  ...                NaN       NaN        NaN\n",
              "1          2  25/03/2020  3173011006  ...                NaN       NaN        NaN\n",
              "2          3  25/03/2020  3173011002  ...                NaN       NaN        NaN\n",
              "3          4  25/03/2020  3173011005  ...                NaN       NaN        NaN\n",
              "4          5  25/03/2020  3173011004  ...                NaN       NaN        NaN\n",
              "...      ...         ...         ...  ...                ...       ...        ...\n",
              "34700  34701  30/11/2020  3175011006  ...                0.0      98.0        NaN\n",
              "34701  34702  30/11/2020  3175011002  ...                0.0      49.0        NaN\n",
              "34702  34703  30/11/2020  3171031008  ...                0.0      31.0        NaN\n",
              "34703  34704  30/11/2020  3172021007  ...                0.0      70.0        NaN\n",
              "34704  34705  30/11/2020  3173021007  ...                0.0      24.0        NaN\n",
              "\n",
              "[34705 rows x 31 columns]"
            ]
          },
          "metadata": {},
          "execution_count": 461
        }
      ]
    },
    {
      "cell_type": "markdown",
      "metadata": {
        "id": "WUbwfXXhDAJ1"
      },
      "source": [
        "## **Data Cleansing**"
      ]
    },
    {
      "cell_type": "markdown",
      "metadata": {
        "id": "3MJ4RPnBaK3B"
      },
      "source": [
        "### **Merapihkan Row**"
      ]
    },
    {
      "cell_type": "code",
      "metadata": {
        "colab": {
          "base_uri": "https://localhost:8080/"
        },
        "id": "2_I5KB2VZ2oE",
        "outputId": "19eefa12-f514-49cd-f4b4-7103503e7c6a"
      },
      "source": [
        "df1['id_kel'].unique()"
      ],
      "execution_count": 462,
      "outputs": [
        {
          "output_type": "execute_result",
          "data": {
            "text/plain": [
              "array(['3173011001', '3173011006', '3173011002', '3173011005',\n",
              "       '3173011004', '3173011003', '3173021001', '3173021004',\n",
              "       '3173021006', '3173021005', '3173021002', '3173021003',\n",
              "       '3173021007', '3173061001', '3173061004', '3173061005',\n",
              "       '3173061002', '3173061003', '3173051005', '3173051001',\n",
              "       '3173051007', '3173051006', '3173051004', '3173051003',\n",
              "       '3173051002', '3173081005', '3173081006', '3173081001',\n",
              "       '3173081003', '3173081002', '3173081004', '3173071004',\n",
              "       '3173071005', '3173071006', '3173071003', '3173071001',\n",
              "       '3173071002', '3173031007', '3173031006', '3173031002',\n",
              "       '3173031005', '3173031003', '3173031008', '3173031001',\n",
              "       '3173031004', '3173041007', '3173041011', '3173041003',\n",
              "       '3173041006', '3173041008', '3173041002', '3173041005',\n",
              "       '3173041009', '3173041010', '3173041001', '3173041004',\n",
              "       '3171051002', '3171051001', '3171051003', '3171011002',\n",
              "       '3171011006', '3171011001', '3171011005', '3171011004',\n",
              "       '3171011003', '3171081003', '3171081001', '3171081002',\n",
              "       '3171081004', '3171031006', '3171031005', '3171031003',\n",
              "       '3171031002', '3171031001', '3171031004', '3171031007',\n",
              "       '3171031008', '3171061003', '3171061004', '3171061005',\n",
              "       '3171061001', '3171061002', '3171021004', '3171021002',\n",
              "       '3171021003', '3171021005', '3171021001', '3171041006',\n",
              "       '3171041002', '3171041004', '3171041005', '3171041003',\n",
              "       '3171041001', '3171071002', '3171071001', '3171071007',\n",
              "       '3171071003', '3171071006', '3171071005', '3171071004',\n",
              "       '3174061001', '3174061005', '3174061004', '3174061002',\n",
              "       '3174061003', '3174091003', '3174091006', '3174091001',\n",
              "       '3174091004', '3174091002', '3174091005', '3174071010',\n",
              "       '3174071009', '3174071002', '3174071003', '3174071001',\n",
              "       '3174071008', '3174071007', '3174071005', '3174071004',\n",
              "       '3174071006', '3174051003', '3174051005', '3174051004',\n",
              "       '3174051006', '3174051001', '3174051002', '3174031002',\n",
              "       '3174031005', '3174031001', '3174031003', '3174031004',\n",
              "       '3174081006', '3174081004', '3174081002', '3174081001',\n",
              "       '3174081005', '3174081003', '3174041003', '3174041002',\n",
              "       '3174041007', '3174041001', '3174041006', '3174041005',\n",
              "       '3174041004', '3174101002', '3174101001', '3174101004',\n",
              "       '3174101003', '3174101005', '3174021007', '3174021004',\n",
              "       '3174021003', '3174021002', '3174021008', '3174021005',\n",
              "       '3174021006', '3174021001', '3174011005', '3174011004',\n",
              "       '3174011007', '3174011006', '3174011003', '3174011002',\n",
              "       '3174011001', '3175061007', '3175061004', '3175061001',\n",
              "       '3175061003', '3175061005', '3175061002', '3175061006',\n",
              "       '3175101006', '3175101008', '3175101002', '3175101001',\n",
              "       '3175101007', '3175101004', '3175101003', '3175101005',\n",
              "       '3175091002', '3175091001', '3175091003', '3175091005',\n",
              "       '3175091004', '3175071001', '3175071003', '3175071006',\n",
              "       '3175071005', '3175071002', '3175071004', '3175071007',\n",
              "       '3175031003', '3175031002', '3175031007', '3175031008',\n",
              "       '3175031005', '3175031006', '3175031001', '3175031004',\n",
              "       '3175041005', '3175041004', '3175041007', '3175041006',\n",
              "       '3175041003', '3175041002', '3175041001', '3175081005',\n",
              "       '3175081004', '3175081003', '3175081001', '3175081002',\n",
              "       '3175011003', '3175011005', '3175011004', '3175011001',\n",
              "       '3175011006', '3175011002', '3175051002', '3175051003',\n",
              "       '3175051001', '3175051004', '3175051005', '3175021003',\n",
              "       '3175021007', '3175021004', '3175021006', '3175021002',\n",
              "       '3175021001', '3175021005', '3172041001', '3172041004',\n",
              "       '3172041003', '3172041006', '3172041007', '3172041005',\n",
              "       '3172041002', '3172061003', '3172061001', '3172061002',\n",
              "       '3172031001', '3172031003', '3172031006', '3172031004',\n",
              "       '3172031005', '3172031002', '3172051003', '3172051002',\n",
              "       '3172051001', '3172011002', '3172011003', '3172011004',\n",
              "       '3172011001', '3172011005', '3172021005', '3172021003',\n",
              "       '3172021004', '3172021006', '3172021002', '3172021001',\n",
              "       '3172021007', '3101021003', '3101021002', '3101021001',\n",
              "       '3101011003', '3101011002', '3101011001', 'BELUM DIKETAHUI',\n",
              "       'LUAR DKI JAKARTA', nan, 'PROSES UPDATE DATA'], dtype=object)"
            ]
          },
          "metadata": {},
          "execution_count": 462
        }
      ]
    },
    {
      "cell_type": "code",
      "metadata": {
        "id": "6sCEpCfkbKOL"
      },
      "source": [
        "df1 = df1.set_index('id_kel').drop(['BELUM DIKETAHUI',\n",
        "                                    'LUAR DKI JAKARTA', \n",
        "                                    'PROSES UPDATE DATA']).reset_index()"
      ],
      "execution_count": 463,
      "outputs": []
    },
    {
      "cell_type": "markdown",
      "metadata": {
        "id": "d0sJ9YaMWxMB"
      },
      "source": [
        "### **Memperbaiki Kolom**"
      ]
    },
    {
      "cell_type": "markdown",
      "metadata": {
        "id": "yB-r6pHlW1m4"
      },
      "source": [
        "Karena kasus ODP dan PDP telah berganti istilah menjadi suspek. Maka kita bisa pindahkan nilai dari kedua kolom tersebut ke kolom suspek. Demikian pula dengan kolom ODP dan PDP meninggal ke kolom suspek meninggal"
      ]
    },
    {
      "cell_type": "code",
      "metadata": {
        "colab": {
          "base_uri": "https://localhost:8080/"
        },
        "id": "CkdtR6sThpXI",
        "outputId": "aa73ca26-648d-4250-8137-a0af5c7ea1c3"
      },
      "source": [
        "df1['odp'] = df1['odp'].astype(float)\n",
        "df1['self_isolation'] = df1['self_isolation'].astype(float)\n",
        "df1['positif'] = df1['positif'].astype(float)\n",
        "df1['dirawat'] = df1['dirawat'].astype(float)\n",
        "df1['sembuh'] = df1['sembuh'].astype(float)\n",
        "df1['meninggal'] = df1['meninggal'].astype(float)\n",
        "df1['tanggal2'] = pd.to_datetime(df1['tanggal2'])\n",
        "df1.info()"
      ],
      "execution_count": 464,
      "outputs": [
        {
          "output_type": "stream",
          "name": "stdout",
          "text": [
            "<class 'pandas.core.frame.DataFrame'>\n",
            "RangeIndex: 34447 entries, 0 to 34446\n",
            "Data columns (total 31 columns):\n",
            " #   Column              Non-Null Count  Dtype         \n",
            "---  ------              --------------  -----         \n",
            " 0   id_kel              34443 non-null  object        \n",
            " 1   ID                  34447 non-null  int64         \n",
            " 2   tanggal2            34447 non-null  datetime64[ns]\n",
            " 3   nama_provinsi       34443 non-null  object        \n",
            " 4   nama_kota           34443 non-null  object        \n",
            " 5   nama_kecamatan      34443 non-null  object        \n",
            " 6   nama_kelurahan      34447 non-null  object        \n",
            " 7   positif             34447 non-null  float64       \n",
            " 8   dirawat             34447 non-null  float64       \n",
            " 9   sembuh              34447 non-null  float64       \n",
            " 10  meninggal           34447 non-null  float64       \n",
            " 11  odp                 5878 non-null   float64       \n",
            " 12  odp_meninggal       4272 non-null   float64       \n",
            " 13  proses_pemantauan   6145 non-null   float64       \n",
            " 14  selesai_pemantauan  6145 non-null   float64       \n",
            " 15  pdp                 6145 non-null   float64       \n",
            " 16  pdp_meninggal       4272 non-null   float64       \n",
            " 17  masih_dirawat       6145 non-null   float64       \n",
            " 18  pulang_dan_sehat    6145 non-null   float64       \n",
            " 19  kontak_erat         28302 non-null  float64       \n",
            " 20  pelaku_perjalanan   28302 non-null  float64       \n",
            " 21  self_isolation      34447 non-null  float64       \n",
            " 22  perawatan_rs        28302 non-null  float64       \n",
            " 23  isolasi_di_rumah    28302 non-null  float64       \n",
            " 24  selesai_isolasi     28302 non-null  float64       \n",
            " 25  suspek              28302 non-null  float64       \n",
            " 26  suspek_meninggal    28302 non-null  float64       \n",
            " 27  probable            28302 non-null  float64       \n",
            " 28  probable_meninggal  28302 non-null  float64       \n",
            " 29  discarded           28302 non-null  float64       \n",
            " 30  keterangan          270 non-null    float64       \n",
            "dtypes: datetime64[ns](1), float64(24), int64(1), object(5)\n",
            "memory usage: 8.1+ MB\n"
          ]
        }
      ]
    },
    {
      "cell_type": "code",
      "metadata": {
        "id": "n1vdVwwUucRq"
      },
      "source": [
        "df1['suspek'] = np.where(df1['suspek'].isnull() & df1['odp'].notnull() & df1['pdp'].notnull(), \n",
        "                         df1['odp'] + df1['pdp'], df1['suspek'])\n",
        "df1['suspek'] = np.where(df1['suspek'].isnull() & df1['odp'].notnull(), \n",
        "                         df1['odp'], df1['suspek'])\n",
        "df1['suspek'] = np.where(df1['suspek'].isnull() & df1['pdp'].notnull(), \n",
        "                         df1['pdp'], df1['suspek'])\n",
        "\n",
        "df1['suspek_meninggal'] = np.where(df1['suspek_meninggal'].isnull() & \n",
        "                                   df1['odp_meninggal'].notnull() & \n",
        "                                   df1['pdp_meninggal'].notnull(), \n",
        "                                   df1['odp_meninggal'] + df1['pdp_meninggal'], df1['suspek_meninggal'])\n",
        "df1['suspek_meninggal'] = np.where(df1['suspek_meninggal'].isnull() & \n",
        "                                   df1['odp_meninggal'].notnull(),\n",
        "                                   df1['odp_meninggal'], df1['suspek_meninggal'])\n",
        "df1['suspek_meninggal'] = np.where(df1['suspek_meninggal'].isnull() &  \n",
        "                                   df1['pdp_meninggal'].notnull(), \n",
        "                                   df1['pdp_meninggal'], df1['suspek_meninggal'])"
      ],
      "execution_count": 465,
      "outputs": []
    },
    {
      "cell_type": "markdown",
      "metadata": {
        "id": "89qP13xs1Dli"
      },
      "source": [
        "Kolom proses_pemantauan akan dipindahkan nilainya ke kolom isolasi_di_rumah. Demikian pula dengan kolom selesai_pemantauan akan dipindahkan nilainya ke kolom selesai_isolasi"
      ]
    },
    {
      "cell_type": "code",
      "metadata": {
        "id": "bBW2SuOR1C_y"
      },
      "source": [
        "df1['isolasi_di_rumah'] = np.where(df1['isolasi_di_rumah'].isnull() & df1['proses_pemantauan'].notnull(), \n",
        "                                   df1['proses_pemantauan'], df1['isolasi_di_rumah'])\n",
        "\n",
        "df1['selesai_isolasi'] = np.where(df1['selesai_isolasi'].isnull() & df1['selesai_pemantauan'].notnull(), \n",
        "                                   df1['selesai_pemantauan'], df1['selesai_isolasi'])"
      ],
      "execution_count": 466,
      "outputs": []
    },
    {
      "cell_type": "markdown",
      "metadata": {
        "id": "KjPsxEuN27Ap"
      },
      "source": [
        "Kolom masih_dirawat akan dipindahkan nilainya ke kolom perawatan_rs."
      ]
    },
    {
      "cell_type": "code",
      "metadata": {
        "id": "NV4D0hCG3JNV"
      },
      "source": [
        "df1['perawatan_rs'] = np.where(df1['perawatan_rs'].isnull() & df1['masih_dirawat'].notnull(), \n",
        "                               df1['masih_dirawat'], df1['perawatan_rs'])"
      ],
      "execution_count": 467,
      "outputs": []
    },
    {
      "cell_type": "markdown",
      "metadata": {
        "id": "flJzjMLr3dmZ"
      },
      "source": [
        "Kolom pulang_dan_sehat akan dipindahkan nilainya ke kolom discarded"
      ]
    },
    {
      "cell_type": "code",
      "metadata": {
        "id": "7ZkrvTCm3ljA"
      },
      "source": [
        "df1['discarded'] = np.where(df1['discarded'].isnull() & df1['pulang_dan_sehat'].notnull(), \n",
        "                                   df1['pulang_dan_sehat'], df1['discarded'])"
      ],
      "execution_count": 468,
      "outputs": []
    },
    {
      "cell_type": "code",
      "metadata": {
        "colab": {
          "base_uri": "https://localhost:8080/"
        },
        "id": "6TEi5u-AgqOt",
        "outputId": "26108e82-5724-40dc-f879-06861e55b1df"
      },
      "source": [
        "df1.info()"
      ],
      "execution_count": 469,
      "outputs": [
        {
          "output_type": "stream",
          "name": "stdout",
          "text": [
            "<class 'pandas.core.frame.DataFrame'>\n",
            "RangeIndex: 34447 entries, 0 to 34446\n",
            "Data columns (total 31 columns):\n",
            " #   Column              Non-Null Count  Dtype         \n",
            "---  ------              --------------  -----         \n",
            " 0   id_kel              34443 non-null  object        \n",
            " 1   ID                  34447 non-null  int64         \n",
            " 2   tanggal2            34447 non-null  datetime64[ns]\n",
            " 3   nama_provinsi       34443 non-null  object        \n",
            " 4   nama_kota           34443 non-null  object        \n",
            " 5   nama_kecamatan      34443 non-null  object        \n",
            " 6   nama_kelurahan      34447 non-null  object        \n",
            " 7   positif             34447 non-null  float64       \n",
            " 8   dirawat             34447 non-null  float64       \n",
            " 9   sembuh              34447 non-null  float64       \n",
            " 10  meninggal           34447 non-null  float64       \n",
            " 11  odp                 5878 non-null   float64       \n",
            " 12  odp_meninggal       4272 non-null   float64       \n",
            " 13  proses_pemantauan   6145 non-null   float64       \n",
            " 14  selesai_pemantauan  6145 non-null   float64       \n",
            " 15  pdp                 6145 non-null   float64       \n",
            " 16  pdp_meninggal       4272 non-null   float64       \n",
            " 17  masih_dirawat       6145 non-null   float64       \n",
            " 18  pulang_dan_sehat    6145 non-null   float64       \n",
            " 19  kontak_erat         28302 non-null  float64       \n",
            " 20  pelaku_perjalanan   28302 non-null  float64       \n",
            " 21  self_isolation      34447 non-null  float64       \n",
            " 22  perawatan_rs        34447 non-null  float64       \n",
            " 23  isolasi_di_rumah    34447 non-null  float64       \n",
            " 24  selesai_isolasi     34447 non-null  float64       \n",
            " 25  suspek              34447 non-null  float64       \n",
            " 26  suspek_meninggal    32574 non-null  float64       \n",
            " 27  probable            28302 non-null  float64       \n",
            " 28  probable_meninggal  28302 non-null  float64       \n",
            " 29  discarded           34447 non-null  float64       \n",
            " 30  keterangan          270 non-null    float64       \n",
            "dtypes: datetime64[ns](1), float64(24), int64(1), object(5)\n",
            "memory usage: 8.1+ MB\n"
          ]
        }
      ]
    },
    {
      "cell_type": "code",
      "metadata": {
        "colab": {
          "base_uri": "https://localhost:8080/",
          "height": 313
        },
        "id": "lUnaYkVysTfW",
        "outputId": "55190aad-79d0-487e-c70b-f8a0ddda52e0"
      },
      "source": [
        "df1.head()"
      ],
      "execution_count": 470,
      "outputs": [
        {
          "output_type": "execute_result",
          "data": {
            "text/html": [
              "<div>\n",
              "<style scoped>\n",
              "    .dataframe tbody tr th:only-of-type {\n",
              "        vertical-align: middle;\n",
              "    }\n",
              "\n",
              "    .dataframe tbody tr th {\n",
              "        vertical-align: top;\n",
              "    }\n",
              "\n",
              "    .dataframe thead th {\n",
              "        text-align: right;\n",
              "    }\n",
              "</style>\n",
              "<table border=\"1\" class=\"dataframe\">\n",
              "  <thead>\n",
              "    <tr style=\"text-align: right;\">\n",
              "      <th></th>\n",
              "      <th>id_kel</th>\n",
              "      <th>ID</th>\n",
              "      <th>tanggal2</th>\n",
              "      <th>nama_provinsi</th>\n",
              "      <th>nama_kota</th>\n",
              "      <th>nama_kecamatan</th>\n",
              "      <th>nama_kelurahan</th>\n",
              "      <th>positif</th>\n",
              "      <th>dirawat</th>\n",
              "      <th>sembuh</th>\n",
              "      <th>meninggal</th>\n",
              "      <th>odp</th>\n",
              "      <th>odp_meninggal</th>\n",
              "      <th>proses_pemantauan</th>\n",
              "      <th>selesai_pemantauan</th>\n",
              "      <th>pdp</th>\n",
              "      <th>pdp_meninggal</th>\n",
              "      <th>masih_dirawat</th>\n",
              "      <th>pulang_dan_sehat</th>\n",
              "      <th>kontak_erat</th>\n",
              "      <th>pelaku_perjalanan</th>\n",
              "      <th>self_isolation</th>\n",
              "      <th>perawatan_rs</th>\n",
              "      <th>isolasi_di_rumah</th>\n",
              "      <th>selesai_isolasi</th>\n",
              "      <th>suspek</th>\n",
              "      <th>suspek_meninggal</th>\n",
              "      <th>probable</th>\n",
              "      <th>probable_meninggal</th>\n",
              "      <th>discarded</th>\n",
              "      <th>keterangan</th>\n",
              "    </tr>\n",
              "  </thead>\n",
              "  <tbody>\n",
              "    <tr>\n",
              "      <th>0</th>\n",
              "      <td>3173011001</td>\n",
              "      <td>1</td>\n",
              "      <td>2020-03-25</td>\n",
              "      <td>DKI JAKARTA</td>\n",
              "      <td>JAKARTA BARAT</td>\n",
              "      <td>CENGKARENG</td>\n",
              "      <td>CENGKARENG BARAT</td>\n",
              "      <td>0.0</td>\n",
              "      <td>0.0</td>\n",
              "      <td>0.0</td>\n",
              "      <td>0.0</td>\n",
              "      <td>4.0</td>\n",
              "      <td>NaN</td>\n",
              "      <td>1.0</td>\n",
              "      <td>3.0</td>\n",
              "      <td>0.0</td>\n",
              "      <td>NaN</td>\n",
              "      <td>0.0</td>\n",
              "      <td>0.0</td>\n",
              "      <td>NaN</td>\n",
              "      <td>NaN</td>\n",
              "      <td>0.0</td>\n",
              "      <td>0.0</td>\n",
              "      <td>1.0</td>\n",
              "      <td>3.0</td>\n",
              "      <td>4.0</td>\n",
              "      <td>NaN</td>\n",
              "      <td>NaN</td>\n",
              "      <td>NaN</td>\n",
              "      <td>0.0</td>\n",
              "      <td>NaN</td>\n",
              "    </tr>\n",
              "    <tr>\n",
              "      <th>1</th>\n",
              "      <td>3173011006</td>\n",
              "      <td>2</td>\n",
              "      <td>2020-03-25</td>\n",
              "      <td>DKI JAKARTA</td>\n",
              "      <td>JAKARTA BARAT</td>\n",
              "      <td>CENGKARENG</td>\n",
              "      <td>CENGKARENG TIMUR</td>\n",
              "      <td>3.0</td>\n",
              "      <td>3.0</td>\n",
              "      <td>0.0</td>\n",
              "      <td>0.0</td>\n",
              "      <td>9.0</td>\n",
              "      <td>NaN</td>\n",
              "      <td>3.0</td>\n",
              "      <td>6.0</td>\n",
              "      <td>3.0</td>\n",
              "      <td>NaN</td>\n",
              "      <td>3.0</td>\n",
              "      <td>0.0</td>\n",
              "      <td>NaN</td>\n",
              "      <td>NaN</td>\n",
              "      <td>0.0</td>\n",
              "      <td>3.0</td>\n",
              "      <td>3.0</td>\n",
              "      <td>6.0</td>\n",
              "      <td>12.0</td>\n",
              "      <td>NaN</td>\n",
              "      <td>NaN</td>\n",
              "      <td>NaN</td>\n",
              "      <td>0.0</td>\n",
              "      <td>NaN</td>\n",
              "    </tr>\n",
              "    <tr>\n",
              "      <th>2</th>\n",
              "      <td>3173011002</td>\n",
              "      <td>3</td>\n",
              "      <td>2020-03-25</td>\n",
              "      <td>DKI JAKARTA</td>\n",
              "      <td>JAKARTA BARAT</td>\n",
              "      <td>CENGKARENG</td>\n",
              "      <td>DURI KOSAMBI</td>\n",
              "      <td>2.0</td>\n",
              "      <td>2.0</td>\n",
              "      <td>0.0</td>\n",
              "      <td>0.0</td>\n",
              "      <td>4.0</td>\n",
              "      <td>NaN</td>\n",
              "      <td>0.0</td>\n",
              "      <td>4.0</td>\n",
              "      <td>2.0</td>\n",
              "      <td>NaN</td>\n",
              "      <td>1.0</td>\n",
              "      <td>1.0</td>\n",
              "      <td>NaN</td>\n",
              "      <td>NaN</td>\n",
              "      <td>0.0</td>\n",
              "      <td>1.0</td>\n",
              "      <td>0.0</td>\n",
              "      <td>4.0</td>\n",
              "      <td>6.0</td>\n",
              "      <td>NaN</td>\n",
              "      <td>NaN</td>\n",
              "      <td>NaN</td>\n",
              "      <td>1.0</td>\n",
              "      <td>NaN</td>\n",
              "    </tr>\n",
              "    <tr>\n",
              "      <th>3</th>\n",
              "      <td>3173011005</td>\n",
              "      <td>4</td>\n",
              "      <td>2020-03-25</td>\n",
              "      <td>DKI JAKARTA</td>\n",
              "      <td>JAKARTA BARAT</td>\n",
              "      <td>CENGKARENG</td>\n",
              "      <td>KAPUK</td>\n",
              "      <td>1.0</td>\n",
              "      <td>0.0</td>\n",
              "      <td>0.0</td>\n",
              "      <td>1.0</td>\n",
              "      <td>4.0</td>\n",
              "      <td>NaN</td>\n",
              "      <td>3.0</td>\n",
              "      <td>1.0</td>\n",
              "      <td>1.0</td>\n",
              "      <td>NaN</td>\n",
              "      <td>0.0</td>\n",
              "      <td>1.0</td>\n",
              "      <td>NaN</td>\n",
              "      <td>NaN</td>\n",
              "      <td>0.0</td>\n",
              "      <td>0.0</td>\n",
              "      <td>3.0</td>\n",
              "      <td>1.0</td>\n",
              "      <td>5.0</td>\n",
              "      <td>NaN</td>\n",
              "      <td>NaN</td>\n",
              "      <td>NaN</td>\n",
              "      <td>1.0</td>\n",
              "      <td>NaN</td>\n",
              "    </tr>\n",
              "    <tr>\n",
              "      <th>4</th>\n",
              "      <td>3173011004</td>\n",
              "      <td>5</td>\n",
              "      <td>2020-03-25</td>\n",
              "      <td>DKI JAKARTA</td>\n",
              "      <td>JAKARTA BARAT</td>\n",
              "      <td>CENGKARENG</td>\n",
              "      <td>KEDAUNG KALI ANGKE</td>\n",
              "      <td>0.0</td>\n",
              "      <td>0.0</td>\n",
              "      <td>0.0</td>\n",
              "      <td>0.0</td>\n",
              "      <td>2.0</td>\n",
              "      <td>NaN</td>\n",
              "      <td>0.0</td>\n",
              "      <td>2.0</td>\n",
              "      <td>0.0</td>\n",
              "      <td>NaN</td>\n",
              "      <td>0.0</td>\n",
              "      <td>0.0</td>\n",
              "      <td>NaN</td>\n",
              "      <td>NaN</td>\n",
              "      <td>0.0</td>\n",
              "      <td>0.0</td>\n",
              "      <td>0.0</td>\n",
              "      <td>2.0</td>\n",
              "      <td>2.0</td>\n",
              "      <td>NaN</td>\n",
              "      <td>NaN</td>\n",
              "      <td>NaN</td>\n",
              "      <td>0.0</td>\n",
              "      <td>NaN</td>\n",
              "    </tr>\n",
              "  </tbody>\n",
              "</table>\n",
              "</div>"
            ],
            "text/plain": [
              "       id_kel  ID   tanggal2  ... probable_meninggal discarded keterangan\n",
              "0  3173011001   1 2020-03-25  ...                NaN       0.0        NaN\n",
              "1  3173011006   2 2020-03-25  ...                NaN       0.0        NaN\n",
              "2  3173011002   3 2020-03-25  ...                NaN       1.0        NaN\n",
              "3  3173011005   4 2020-03-25  ...                NaN       1.0        NaN\n",
              "4  3173011004   5 2020-03-25  ...                NaN       0.0        NaN\n",
              "\n",
              "[5 rows x 31 columns]"
            ]
          },
          "metadata": {},
          "execution_count": 470
        }
      ]
    },
    {
      "cell_type": "markdown",
      "metadata": {
        "id": "u6UYEv2_6rVq"
      },
      "source": [
        "### **Menghapus Kolom**"
      ]
    },
    {
      "cell_type": "code",
      "metadata": {
        "colab": {
          "base_uri": "https://localhost:8080/"
        },
        "id": "T4o59Je56uLp",
        "outputId": "9c3421a5-21d5-4275-fc5e-88916bd84061"
      },
      "source": [
        "# Remove column name 'A'\n",
        "removed_column = ['ID','odp', 'odp_meninggal', \n",
        "                  'proses_pemantauan', 'selesai_pemantauan', \n",
        "                  'pdp', 'pdp_meninggal', 'masih_dirawat',\n",
        "                  'pulang_dan_sehat', 'keterangan']                    \n",
        "df1.drop(removed_column, axis = 1, inplace = True)\n",
        "df1.info()"
      ],
      "execution_count": 471,
      "outputs": [
        {
          "output_type": "stream",
          "name": "stdout",
          "text": [
            "<class 'pandas.core.frame.DataFrame'>\n",
            "RangeIndex: 34447 entries, 0 to 34446\n",
            "Data columns (total 21 columns):\n",
            " #   Column              Non-Null Count  Dtype         \n",
            "---  ------              --------------  -----         \n",
            " 0   id_kel              34443 non-null  object        \n",
            " 1   tanggal2            34447 non-null  datetime64[ns]\n",
            " 2   nama_provinsi       34443 non-null  object        \n",
            " 3   nama_kota           34443 non-null  object        \n",
            " 4   nama_kecamatan      34443 non-null  object        \n",
            " 5   nama_kelurahan      34447 non-null  object        \n",
            " 6   positif             34447 non-null  float64       \n",
            " 7   dirawat             34447 non-null  float64       \n",
            " 8   sembuh              34447 non-null  float64       \n",
            " 9   meninggal           34447 non-null  float64       \n",
            " 10  kontak_erat         28302 non-null  float64       \n",
            " 11  pelaku_perjalanan   28302 non-null  float64       \n",
            " 12  self_isolation      34447 non-null  float64       \n",
            " 13  perawatan_rs        34447 non-null  float64       \n",
            " 14  isolasi_di_rumah    34447 non-null  float64       \n",
            " 15  selesai_isolasi     34447 non-null  float64       \n",
            " 16  suspek              34447 non-null  float64       \n",
            " 17  suspek_meninggal    32574 non-null  float64       \n",
            " 18  probable            28302 non-null  float64       \n",
            " 19  probable_meninggal  28302 non-null  float64       \n",
            " 20  discarded           34447 non-null  float64       \n",
            "dtypes: datetime64[ns](1), float64(15), object(5)\n",
            "memory usage: 5.5+ MB\n"
          ]
        }
      ]
    },
    {
      "cell_type": "code",
      "metadata": {
        "colab": {
          "base_uri": "https://localhost:8080/",
          "height": 617
        },
        "id": "c5Qpw1ec-lEE",
        "outputId": "7be79cb1-2b6c-48a9-ea3d-4f45542e3c00"
      },
      "source": [
        "df1"
      ],
      "execution_count": 472,
      "outputs": [
        {
          "output_type": "execute_result",
          "data": {
            "text/html": [
              "<div>\n",
              "<style scoped>\n",
              "    .dataframe tbody tr th:only-of-type {\n",
              "        vertical-align: middle;\n",
              "    }\n",
              "\n",
              "    .dataframe tbody tr th {\n",
              "        vertical-align: top;\n",
              "    }\n",
              "\n",
              "    .dataframe thead th {\n",
              "        text-align: right;\n",
              "    }\n",
              "</style>\n",
              "<table border=\"1\" class=\"dataframe\">\n",
              "  <thead>\n",
              "    <tr style=\"text-align: right;\">\n",
              "      <th></th>\n",
              "      <th>id_kel</th>\n",
              "      <th>tanggal2</th>\n",
              "      <th>nama_provinsi</th>\n",
              "      <th>nama_kota</th>\n",
              "      <th>nama_kecamatan</th>\n",
              "      <th>nama_kelurahan</th>\n",
              "      <th>positif</th>\n",
              "      <th>dirawat</th>\n",
              "      <th>sembuh</th>\n",
              "      <th>meninggal</th>\n",
              "      <th>kontak_erat</th>\n",
              "      <th>pelaku_perjalanan</th>\n",
              "      <th>self_isolation</th>\n",
              "      <th>perawatan_rs</th>\n",
              "      <th>isolasi_di_rumah</th>\n",
              "      <th>selesai_isolasi</th>\n",
              "      <th>suspek</th>\n",
              "      <th>suspek_meninggal</th>\n",
              "      <th>probable</th>\n",
              "      <th>probable_meninggal</th>\n",
              "      <th>discarded</th>\n",
              "    </tr>\n",
              "  </thead>\n",
              "  <tbody>\n",
              "    <tr>\n",
              "      <th>0</th>\n",
              "      <td>3173011001</td>\n",
              "      <td>2020-03-25</td>\n",
              "      <td>DKI JAKARTA</td>\n",
              "      <td>JAKARTA BARAT</td>\n",
              "      <td>CENGKARENG</td>\n",
              "      <td>CENGKARENG BARAT</td>\n",
              "      <td>0.0</td>\n",
              "      <td>0.0</td>\n",
              "      <td>0.0</td>\n",
              "      <td>0.0</td>\n",
              "      <td>NaN</td>\n",
              "      <td>NaN</td>\n",
              "      <td>0.0</td>\n",
              "      <td>0.0</td>\n",
              "      <td>1.0</td>\n",
              "      <td>3.0</td>\n",
              "      <td>4.0</td>\n",
              "      <td>NaN</td>\n",
              "      <td>NaN</td>\n",
              "      <td>NaN</td>\n",
              "      <td>0.0</td>\n",
              "    </tr>\n",
              "    <tr>\n",
              "      <th>1</th>\n",
              "      <td>3173011006</td>\n",
              "      <td>2020-03-25</td>\n",
              "      <td>DKI JAKARTA</td>\n",
              "      <td>JAKARTA BARAT</td>\n",
              "      <td>CENGKARENG</td>\n",
              "      <td>CENGKARENG TIMUR</td>\n",
              "      <td>3.0</td>\n",
              "      <td>3.0</td>\n",
              "      <td>0.0</td>\n",
              "      <td>0.0</td>\n",
              "      <td>NaN</td>\n",
              "      <td>NaN</td>\n",
              "      <td>0.0</td>\n",
              "      <td>3.0</td>\n",
              "      <td>3.0</td>\n",
              "      <td>6.0</td>\n",
              "      <td>12.0</td>\n",
              "      <td>NaN</td>\n",
              "      <td>NaN</td>\n",
              "      <td>NaN</td>\n",
              "      <td>0.0</td>\n",
              "    </tr>\n",
              "    <tr>\n",
              "      <th>2</th>\n",
              "      <td>3173011002</td>\n",
              "      <td>2020-03-25</td>\n",
              "      <td>DKI JAKARTA</td>\n",
              "      <td>JAKARTA BARAT</td>\n",
              "      <td>CENGKARENG</td>\n",
              "      <td>DURI KOSAMBI</td>\n",
              "      <td>2.0</td>\n",
              "      <td>2.0</td>\n",
              "      <td>0.0</td>\n",
              "      <td>0.0</td>\n",
              "      <td>NaN</td>\n",
              "      <td>NaN</td>\n",
              "      <td>0.0</td>\n",
              "      <td>1.0</td>\n",
              "      <td>0.0</td>\n",
              "      <td>4.0</td>\n",
              "      <td>6.0</td>\n",
              "      <td>NaN</td>\n",
              "      <td>NaN</td>\n",
              "      <td>NaN</td>\n",
              "      <td>1.0</td>\n",
              "    </tr>\n",
              "    <tr>\n",
              "      <th>3</th>\n",
              "      <td>3173011005</td>\n",
              "      <td>2020-03-25</td>\n",
              "      <td>DKI JAKARTA</td>\n",
              "      <td>JAKARTA BARAT</td>\n",
              "      <td>CENGKARENG</td>\n",
              "      <td>KAPUK</td>\n",
              "      <td>1.0</td>\n",
              "      <td>0.0</td>\n",
              "      <td>0.0</td>\n",
              "      <td>1.0</td>\n",
              "      <td>NaN</td>\n",
              "      <td>NaN</td>\n",
              "      <td>0.0</td>\n",
              "      <td>0.0</td>\n",
              "      <td>3.0</td>\n",
              "      <td>1.0</td>\n",
              "      <td>5.0</td>\n",
              "      <td>NaN</td>\n",
              "      <td>NaN</td>\n",
              "      <td>NaN</td>\n",
              "      <td>1.0</td>\n",
              "    </tr>\n",
              "    <tr>\n",
              "      <th>4</th>\n",
              "      <td>3173011004</td>\n",
              "      <td>2020-03-25</td>\n",
              "      <td>DKI JAKARTA</td>\n",
              "      <td>JAKARTA BARAT</td>\n",
              "      <td>CENGKARENG</td>\n",
              "      <td>KEDAUNG KALI ANGKE</td>\n",
              "      <td>0.0</td>\n",
              "      <td>0.0</td>\n",
              "      <td>0.0</td>\n",
              "      <td>0.0</td>\n",
              "      <td>NaN</td>\n",
              "      <td>NaN</td>\n",
              "      <td>0.0</td>\n",
              "      <td>0.0</td>\n",
              "      <td>0.0</td>\n",
              "      <td>2.0</td>\n",
              "      <td>2.0</td>\n",
              "      <td>NaN</td>\n",
              "      <td>NaN</td>\n",
              "      <td>NaN</td>\n",
              "      <td>0.0</td>\n",
              "    </tr>\n",
              "    <tr>\n",
              "      <th>...</th>\n",
              "      <td>...</td>\n",
              "      <td>...</td>\n",
              "      <td>...</td>\n",
              "      <td>...</td>\n",
              "      <td>...</td>\n",
              "      <td>...</td>\n",
              "      <td>...</td>\n",
              "      <td>...</td>\n",
              "      <td>...</td>\n",
              "      <td>...</td>\n",
              "      <td>...</td>\n",
              "      <td>...</td>\n",
              "      <td>...</td>\n",
              "      <td>...</td>\n",
              "      <td>...</td>\n",
              "      <td>...</td>\n",
              "      <td>...</td>\n",
              "      <td>...</td>\n",
              "      <td>...</td>\n",
              "      <td>...</td>\n",
              "      <td>...</td>\n",
              "    </tr>\n",
              "    <tr>\n",
              "      <th>34442</th>\n",
              "      <td>3175011006</td>\n",
              "      <td>2020-11-30</td>\n",
              "      <td>DKI JAKARTA</td>\n",
              "      <td>JAKARTA TIMUR</td>\n",
              "      <td>MATRAMAN</td>\n",
              "      <td>UTAN KAYU SELATAN</td>\n",
              "      <td>396.0</td>\n",
              "      <td>2.0</td>\n",
              "      <td>369.0</td>\n",
              "      <td>0.0</td>\n",
              "      <td>1408.0</td>\n",
              "      <td>8.0</td>\n",
              "      <td>16.0</td>\n",
              "      <td>13.0</td>\n",
              "      <td>35.0</td>\n",
              "      <td>650.0</td>\n",
              "      <td>706.0</td>\n",
              "      <td>8.0</td>\n",
              "      <td>2.0</td>\n",
              "      <td>0.0</td>\n",
              "      <td>98.0</td>\n",
              "    </tr>\n",
              "    <tr>\n",
              "      <th>34443</th>\n",
              "      <td>3175011002</td>\n",
              "      <td>2020-11-30</td>\n",
              "      <td>DKI JAKARTA</td>\n",
              "      <td>JAKARTA TIMUR</td>\n",
              "      <td>MATRAMAN</td>\n",
              "      <td>UTAN KAYU UTARA</td>\n",
              "      <td>338.0</td>\n",
              "      <td>1.0</td>\n",
              "      <td>305.0</td>\n",
              "      <td>0.0</td>\n",
              "      <td>1213.0</td>\n",
              "      <td>6.0</td>\n",
              "      <td>18.0</td>\n",
              "      <td>5.0</td>\n",
              "      <td>242.0</td>\n",
              "      <td>540.0</td>\n",
              "      <td>787.0</td>\n",
              "      <td>0.0</td>\n",
              "      <td>4.0</td>\n",
              "      <td>0.0</td>\n",
              "      <td>49.0</td>\n",
              "    </tr>\n",
              "    <tr>\n",
              "      <th>34444</th>\n",
              "      <td>3171031008</td>\n",
              "      <td>2020-11-30</td>\n",
              "      <td>DKI JAKARTA</td>\n",
              "      <td>JAKARTA PUSAT</td>\n",
              "      <td>KEMAYORAN</td>\n",
              "      <td>UTAN PANJANG</td>\n",
              "      <td>355.0</td>\n",
              "      <td>1.0</td>\n",
              "      <td>332.0</td>\n",
              "      <td>0.0</td>\n",
              "      <td>782.0</td>\n",
              "      <td>4.0</td>\n",
              "      <td>12.0</td>\n",
              "      <td>1.0</td>\n",
              "      <td>44.0</td>\n",
              "      <td>494.0</td>\n",
              "      <td>541.0</td>\n",
              "      <td>2.0</td>\n",
              "      <td>0.0</td>\n",
              "      <td>0.0</td>\n",
              "      <td>31.0</td>\n",
              "    </tr>\n",
              "    <tr>\n",
              "      <th>34445</th>\n",
              "      <td>3172021007</td>\n",
              "      <td>2020-11-30</td>\n",
              "      <td>DKI JAKARTA</td>\n",
              "      <td>JAKARTA UTARA</td>\n",
              "      <td>TANJUNG PRIOK</td>\n",
              "      <td>WARAKAS</td>\n",
              "      <td>472.0</td>\n",
              "      <td>4.0</td>\n",
              "      <td>441.0</td>\n",
              "      <td>0.0</td>\n",
              "      <td>1326.0</td>\n",
              "      <td>12.0</td>\n",
              "      <td>19.0</td>\n",
              "      <td>1.0</td>\n",
              "      <td>65.0</td>\n",
              "      <td>792.0</td>\n",
              "      <td>860.0</td>\n",
              "      <td>2.0</td>\n",
              "      <td>0.0</td>\n",
              "      <td>0.0</td>\n",
              "      <td>70.0</td>\n",
              "    </tr>\n",
              "    <tr>\n",
              "      <th>34446</th>\n",
              "      <td>3173021007</td>\n",
              "      <td>2020-11-30</td>\n",
              "      <td>DKI JAKARTA</td>\n",
              "      <td>JAKARTA BARAT</td>\n",
              "      <td>GROGOL PETAMBURAN</td>\n",
              "      <td>WIJAYA KUSUMA</td>\n",
              "      <td>377.0</td>\n",
              "      <td>8.0</td>\n",
              "      <td>345.0</td>\n",
              "      <td>0.0</td>\n",
              "      <td>1099.0</td>\n",
              "      <td>7.0</td>\n",
              "      <td>15.0</td>\n",
              "      <td>1.0</td>\n",
              "      <td>39.0</td>\n",
              "      <td>519.0</td>\n",
              "      <td>561.0</td>\n",
              "      <td>2.0</td>\n",
              "      <td>1.0</td>\n",
              "      <td>0.0</td>\n",
              "      <td>24.0</td>\n",
              "    </tr>\n",
              "  </tbody>\n",
              "</table>\n",
              "<p>34447 rows × 21 columns</p>\n",
              "</div>"
            ],
            "text/plain": [
              "           id_kel   tanggal2  ... probable_meninggal discarded\n",
              "0      3173011001 2020-03-25  ...                NaN       0.0\n",
              "1      3173011006 2020-03-25  ...                NaN       0.0\n",
              "2      3173011002 2020-03-25  ...                NaN       1.0\n",
              "3      3173011005 2020-03-25  ...                NaN       1.0\n",
              "4      3173011004 2020-03-25  ...                NaN       0.0\n",
              "...           ...        ...  ...                ...       ...\n",
              "34442  3175011006 2020-11-30  ...                0.0      98.0\n",
              "34443  3175011002 2020-11-30  ...                0.0      49.0\n",
              "34444  3171031008 2020-11-30  ...                0.0      31.0\n",
              "34445  3172021007 2020-11-30  ...                0.0      70.0\n",
              "34446  3173021007 2020-11-30  ...                0.0      24.0\n",
              "\n",
              "[34447 rows x 21 columns]"
            ]
          },
          "metadata": {},
          "execution_count": 472
        }
      ]
    },
    {
      "cell_type": "markdown",
      "metadata": {
        "id": "ZKs-dqdxDEGl"
      },
      "source": [
        "### **Mengatasi Missing Values**"
      ]
    },
    {
      "cell_type": "code",
      "metadata": {
        "id": "eYijZckQnyoD"
      },
      "source": [
        "df1.dropna(inplace=True)"
      ],
      "execution_count": 473,
      "outputs": []
    },
    {
      "cell_type": "code",
      "metadata": {
        "colab": {
          "base_uri": "https://localhost:8080/"
        },
        "id": "PCD5ZCHupjD1",
        "outputId": "c45edcda-19d4-48a8-cbf6-45ed27f22a68"
      },
      "source": [
        "df1.info()"
      ],
      "execution_count": 474,
      "outputs": [
        {
          "output_type": "stream",
          "name": "stdout",
          "text": [
            "<class 'pandas.core.frame.DataFrame'>\n",
            "Int64Index: 28302 entries, 5344 to 34446\n",
            "Data columns (total 21 columns):\n",
            " #   Column              Non-Null Count  Dtype         \n",
            "---  ------              --------------  -----         \n",
            " 0   id_kel              28302 non-null  object        \n",
            " 1   tanggal2            28302 non-null  datetime64[ns]\n",
            " 2   nama_provinsi       28302 non-null  object        \n",
            " 3   nama_kota           28302 non-null  object        \n",
            " 4   nama_kecamatan      28302 non-null  object        \n",
            " 5   nama_kelurahan      28302 non-null  object        \n",
            " 6   positif             28302 non-null  float64       \n",
            " 7   dirawat             28302 non-null  float64       \n",
            " 8   sembuh              28302 non-null  float64       \n",
            " 9   meninggal           28302 non-null  float64       \n",
            " 10  kontak_erat         28302 non-null  float64       \n",
            " 11  pelaku_perjalanan   28302 non-null  float64       \n",
            " 12  self_isolation      28302 non-null  float64       \n",
            " 13  perawatan_rs        28302 non-null  float64       \n",
            " 14  isolasi_di_rumah    28302 non-null  float64       \n",
            " 15  selesai_isolasi     28302 non-null  float64       \n",
            " 16  suspek              28302 non-null  float64       \n",
            " 17  suspek_meninggal    28302 non-null  float64       \n",
            " 18  probable            28302 non-null  float64       \n",
            " 19  probable_meninggal  28302 non-null  float64       \n",
            " 20  discarded           28302 non-null  float64       \n",
            "dtypes: datetime64[ns](1), float64(15), object(5)\n",
            "memory usage: 4.8+ MB\n"
          ]
        }
      ]
    },
    {
      "cell_type": "code",
      "metadata": {
        "colab": {
          "base_uri": "https://localhost:8080/",
          "height": 617
        },
        "id": "rddRo0T9wT90",
        "outputId": "ac641ca8-0406-46bf-bef6-bee9a9335224"
      },
      "source": [
        "df1.reset_index(drop=True)"
      ],
      "execution_count": 475,
      "outputs": [
        {
          "output_type": "execute_result",
          "data": {
            "text/html": [
              "<div>\n",
              "<style scoped>\n",
              "    .dataframe tbody tr th:only-of-type {\n",
              "        vertical-align: middle;\n",
              "    }\n",
              "\n",
              "    .dataframe tbody tr th {\n",
              "        vertical-align: top;\n",
              "    }\n",
              "\n",
              "    .dataframe thead th {\n",
              "        text-align: right;\n",
              "    }\n",
              "</style>\n",
              "<table border=\"1\" class=\"dataframe\">\n",
              "  <thead>\n",
              "    <tr style=\"text-align: right;\">\n",
              "      <th></th>\n",
              "      <th>id_kel</th>\n",
              "      <th>tanggal2</th>\n",
              "      <th>nama_provinsi</th>\n",
              "      <th>nama_kota</th>\n",
              "      <th>nama_kecamatan</th>\n",
              "      <th>nama_kelurahan</th>\n",
              "      <th>positif</th>\n",
              "      <th>dirawat</th>\n",
              "      <th>sembuh</th>\n",
              "      <th>meninggal</th>\n",
              "      <th>kontak_erat</th>\n",
              "      <th>pelaku_perjalanan</th>\n",
              "      <th>self_isolation</th>\n",
              "      <th>perawatan_rs</th>\n",
              "      <th>isolasi_di_rumah</th>\n",
              "      <th>selesai_isolasi</th>\n",
              "      <th>suspek</th>\n",
              "      <th>suspek_meninggal</th>\n",
              "      <th>probable</th>\n",
              "      <th>probable_meninggal</th>\n",
              "      <th>discarded</th>\n",
              "    </tr>\n",
              "  </thead>\n",
              "  <tbody>\n",
              "    <tr>\n",
              "      <th>0</th>\n",
              "      <td>3172051003</td>\n",
              "      <td>2020-07-14</td>\n",
              "      <td>DKI JAKARTA</td>\n",
              "      <td>JAKARTA UTARA</td>\n",
              "      <td>PADEMANGAN</td>\n",
              "      <td>ANCOL</td>\n",
              "      <td>39.0</td>\n",
              "      <td>2.0</td>\n",
              "      <td>33.0</td>\n",
              "      <td>0.0</td>\n",
              "      <td>249.0</td>\n",
              "      <td>5.0</td>\n",
              "      <td>4.0</td>\n",
              "      <td>4.0</td>\n",
              "      <td>0.0</td>\n",
              "      <td>100.0</td>\n",
              "      <td>104.0</td>\n",
              "      <td>0.0</td>\n",
              "      <td>0.0</td>\n",
              "      <td>0.0</td>\n",
              "      <td>4.0</td>\n",
              "    </tr>\n",
              "    <tr>\n",
              "      <th>1</th>\n",
              "      <td>3173041007</td>\n",
              "      <td>2020-07-14</td>\n",
              "      <td>DKI JAKARTA</td>\n",
              "      <td>JAKARTA BARAT</td>\n",
              "      <td>TAMBORA</td>\n",
              "      <td>ANGKE</td>\n",
              "      <td>45.0</td>\n",
              "      <td>4.0</td>\n",
              "      <td>29.0</td>\n",
              "      <td>2.0</td>\n",
              "      <td>272.0</td>\n",
              "      <td>0.0</td>\n",
              "      <td>10.0</td>\n",
              "      <td>0.0</td>\n",
              "      <td>0.0</td>\n",
              "      <td>179.0</td>\n",
              "      <td>180.0</td>\n",
              "      <td>1.0</td>\n",
              "      <td>0.0</td>\n",
              "      <td>0.0</td>\n",
              "      <td>22.0</td>\n",
              "    </tr>\n",
              "    <tr>\n",
              "      <th>2</th>\n",
              "      <td>3175041005</td>\n",
              "      <td>2020-07-14</td>\n",
              "      <td>DKI JAKARTA</td>\n",
              "      <td>JAKARTA TIMUR</td>\n",
              "      <td>KRAMAT JATI</td>\n",
              "      <td>BALE KAMBANG</td>\n",
              "      <td>22.0</td>\n",
              "      <td>1.0</td>\n",
              "      <td>16.0</td>\n",
              "      <td>1.0</td>\n",
              "      <td>87.0</td>\n",
              "      <td>2.0</td>\n",
              "      <td>4.0</td>\n",
              "      <td>4.0</td>\n",
              "      <td>0.0</td>\n",
              "      <td>51.0</td>\n",
              "      <td>55.0</td>\n",
              "      <td>0.0</td>\n",
              "      <td>0.0</td>\n",
              "      <td>0.0</td>\n",
              "      <td>22.0</td>\n",
              "    </tr>\n",
              "    <tr>\n",
              "      <th>3</th>\n",
              "      <td>3175031003</td>\n",
              "      <td>2020-07-14</td>\n",
              "      <td>DKI JAKARTA</td>\n",
              "      <td>JAKARTA TIMUR</td>\n",
              "      <td>JATINEGARA</td>\n",
              "      <td>BALI MESTER</td>\n",
              "      <td>6.0</td>\n",
              "      <td>0.0</td>\n",
              "      <td>5.0</td>\n",
              "      <td>1.0</td>\n",
              "      <td>25.0</td>\n",
              "      <td>0.0</td>\n",
              "      <td>0.0</td>\n",
              "      <td>0.0</td>\n",
              "      <td>0.0</td>\n",
              "      <td>32.0</td>\n",
              "      <td>33.0</td>\n",
              "      <td>1.0</td>\n",
              "      <td>0.0</td>\n",
              "      <td>0.0</td>\n",
              "      <td>0.0</td>\n",
              "    </tr>\n",
              "    <tr>\n",
              "      <th>4</th>\n",
              "      <td>3175101006</td>\n",
              "      <td>2020-07-14</td>\n",
              "      <td>DKI JAKARTA</td>\n",
              "      <td>JAKARTA TIMUR</td>\n",
              "      <td>CIPAYUNG</td>\n",
              "      <td>BAMBU APUS</td>\n",
              "      <td>22.0</td>\n",
              "      <td>3.0</td>\n",
              "      <td>15.0</td>\n",
              "      <td>0.0</td>\n",
              "      <td>106.0</td>\n",
              "      <td>2.0</td>\n",
              "      <td>4.0</td>\n",
              "      <td>0.0</td>\n",
              "      <td>1.0</td>\n",
              "      <td>102.0</td>\n",
              "      <td>104.0</td>\n",
              "      <td>1.0</td>\n",
              "      <td>0.0</td>\n",
              "      <td>0.0</td>\n",
              "      <td>14.0</td>\n",
              "    </tr>\n",
              "    <tr>\n",
              "      <th>...</th>\n",
              "      <td>...</td>\n",
              "      <td>...</td>\n",
              "      <td>...</td>\n",
              "      <td>...</td>\n",
              "      <td>...</td>\n",
              "      <td>...</td>\n",
              "      <td>...</td>\n",
              "      <td>...</td>\n",
              "      <td>...</td>\n",
              "      <td>...</td>\n",
              "      <td>...</td>\n",
              "      <td>...</td>\n",
              "      <td>...</td>\n",
              "      <td>...</td>\n",
              "      <td>...</td>\n",
              "      <td>...</td>\n",
              "      <td>...</td>\n",
              "      <td>...</td>\n",
              "      <td>...</td>\n",
              "      <td>...</td>\n",
              "      <td>...</td>\n",
              "    </tr>\n",
              "    <tr>\n",
              "      <th>28297</th>\n",
              "      <td>3175011006</td>\n",
              "      <td>2020-11-30</td>\n",
              "      <td>DKI JAKARTA</td>\n",
              "      <td>JAKARTA TIMUR</td>\n",
              "      <td>MATRAMAN</td>\n",
              "      <td>UTAN KAYU SELATAN</td>\n",
              "      <td>396.0</td>\n",
              "      <td>2.0</td>\n",
              "      <td>369.0</td>\n",
              "      <td>0.0</td>\n",
              "      <td>1408.0</td>\n",
              "      <td>8.0</td>\n",
              "      <td>16.0</td>\n",
              "      <td>13.0</td>\n",
              "      <td>35.0</td>\n",
              "      <td>650.0</td>\n",
              "      <td>706.0</td>\n",
              "      <td>8.0</td>\n",
              "      <td>2.0</td>\n",
              "      <td>0.0</td>\n",
              "      <td>98.0</td>\n",
              "    </tr>\n",
              "    <tr>\n",
              "      <th>28298</th>\n",
              "      <td>3175011002</td>\n",
              "      <td>2020-11-30</td>\n",
              "      <td>DKI JAKARTA</td>\n",
              "      <td>JAKARTA TIMUR</td>\n",
              "      <td>MATRAMAN</td>\n",
              "      <td>UTAN KAYU UTARA</td>\n",
              "      <td>338.0</td>\n",
              "      <td>1.0</td>\n",
              "      <td>305.0</td>\n",
              "      <td>0.0</td>\n",
              "      <td>1213.0</td>\n",
              "      <td>6.0</td>\n",
              "      <td>18.0</td>\n",
              "      <td>5.0</td>\n",
              "      <td>242.0</td>\n",
              "      <td>540.0</td>\n",
              "      <td>787.0</td>\n",
              "      <td>0.0</td>\n",
              "      <td>4.0</td>\n",
              "      <td>0.0</td>\n",
              "      <td>49.0</td>\n",
              "    </tr>\n",
              "    <tr>\n",
              "      <th>28299</th>\n",
              "      <td>3171031008</td>\n",
              "      <td>2020-11-30</td>\n",
              "      <td>DKI JAKARTA</td>\n",
              "      <td>JAKARTA PUSAT</td>\n",
              "      <td>KEMAYORAN</td>\n",
              "      <td>UTAN PANJANG</td>\n",
              "      <td>355.0</td>\n",
              "      <td>1.0</td>\n",
              "      <td>332.0</td>\n",
              "      <td>0.0</td>\n",
              "      <td>782.0</td>\n",
              "      <td>4.0</td>\n",
              "      <td>12.0</td>\n",
              "      <td>1.0</td>\n",
              "      <td>44.0</td>\n",
              "      <td>494.0</td>\n",
              "      <td>541.0</td>\n",
              "      <td>2.0</td>\n",
              "      <td>0.0</td>\n",
              "      <td>0.0</td>\n",
              "      <td>31.0</td>\n",
              "    </tr>\n",
              "    <tr>\n",
              "      <th>28300</th>\n",
              "      <td>3172021007</td>\n",
              "      <td>2020-11-30</td>\n",
              "      <td>DKI JAKARTA</td>\n",
              "      <td>JAKARTA UTARA</td>\n",
              "      <td>TANJUNG PRIOK</td>\n",
              "      <td>WARAKAS</td>\n",
              "      <td>472.0</td>\n",
              "      <td>4.0</td>\n",
              "      <td>441.0</td>\n",
              "      <td>0.0</td>\n",
              "      <td>1326.0</td>\n",
              "      <td>12.0</td>\n",
              "      <td>19.0</td>\n",
              "      <td>1.0</td>\n",
              "      <td>65.0</td>\n",
              "      <td>792.0</td>\n",
              "      <td>860.0</td>\n",
              "      <td>2.0</td>\n",
              "      <td>0.0</td>\n",
              "      <td>0.0</td>\n",
              "      <td>70.0</td>\n",
              "    </tr>\n",
              "    <tr>\n",
              "      <th>28301</th>\n",
              "      <td>3173021007</td>\n",
              "      <td>2020-11-30</td>\n",
              "      <td>DKI JAKARTA</td>\n",
              "      <td>JAKARTA BARAT</td>\n",
              "      <td>GROGOL PETAMBURAN</td>\n",
              "      <td>WIJAYA KUSUMA</td>\n",
              "      <td>377.0</td>\n",
              "      <td>8.0</td>\n",
              "      <td>345.0</td>\n",
              "      <td>0.0</td>\n",
              "      <td>1099.0</td>\n",
              "      <td>7.0</td>\n",
              "      <td>15.0</td>\n",
              "      <td>1.0</td>\n",
              "      <td>39.0</td>\n",
              "      <td>519.0</td>\n",
              "      <td>561.0</td>\n",
              "      <td>2.0</td>\n",
              "      <td>1.0</td>\n",
              "      <td>0.0</td>\n",
              "      <td>24.0</td>\n",
              "    </tr>\n",
              "  </tbody>\n",
              "</table>\n",
              "<p>28302 rows × 21 columns</p>\n",
              "</div>"
            ],
            "text/plain": [
              "           id_kel   tanggal2  ... probable_meninggal discarded\n",
              "0      3172051003 2020-07-14  ...                0.0       4.0\n",
              "1      3173041007 2020-07-14  ...                0.0      22.0\n",
              "2      3175041005 2020-07-14  ...                0.0      22.0\n",
              "3      3175031003 2020-07-14  ...                0.0       0.0\n",
              "4      3175101006 2020-07-14  ...                0.0      14.0\n",
              "...           ...        ...  ...                ...       ...\n",
              "28297  3175011006 2020-11-30  ...                0.0      98.0\n",
              "28298  3175011002 2020-11-30  ...                0.0      49.0\n",
              "28299  3171031008 2020-11-30  ...                0.0      31.0\n",
              "28300  3172021007 2020-11-30  ...                0.0      70.0\n",
              "28301  3173021007 2020-11-30  ...                0.0      24.0\n",
              "\n",
              "[28302 rows x 21 columns]"
            ]
          },
          "metadata": {},
          "execution_count": 475
        }
      ]
    },
    {
      "cell_type": "markdown",
      "metadata": {
        "id": "XFFQV9Vd1BFi"
      },
      "source": [
        "## **Export Data 1 to CSV File**"
      ]
    },
    {
      "cell_type": "code",
      "metadata": {
        "id": "U-qHHG4_xFHx"
      },
      "source": [
        "df1.to_csv('data1_covid_dki_detailed_clean', index=True, sep=',')"
      ],
      "execution_count": 476,
      "outputs": []
    },
    {
      "cell_type": "markdown",
      "metadata": {
        "id": "VRiLRPPeICNA"
      },
      "source": [
        "# **Data 2: Data Kasus Covid (Webscraping)**"
      ]
    },
    {
      "cell_type": "markdown",
      "metadata": {
        "id": "OgpOZYZM79w2"
      },
      "source": [
        "covid19.go.id menyediakan data kasus COVID-19 tingkat provinsi di alamat API yang berbeda. Sebagai data mengenai COVID-19 Jakarta, tersedia di https://data.covid19.go.id/public/api/prov_detail_DKI_JAKARTA.json."
      ]
    },
    {
      "cell_type": "code",
      "metadata": {
        "id": "jdpsSqcU76x_"
      },
      "source": [
        "import requests\n",
        "resp_dki = requests.get('https://data.covid19.go.id/public/api/prov_detail_DKI_JAKARTA.json')\n",
        "cov_dki_raw = resp_dki.json()"
      ],
      "execution_count": 477,
      "outputs": []
    },
    {
      "cell_type": "markdown",
      "metadata": {
        "id": "kBlM5GG38Pnr"
      },
      "source": [
        "## **Akses Data Covid dengan API**"
      ]
    },
    {
      "cell_type": "code",
      "metadata": {
        "id": "M1c8Ft238YNt",
        "colab": {
          "base_uri": "https://localhost:8080/"
        },
        "outputId": "ba6c20be-4fda-4dad-c234-5572634a35a4"
      },
      "source": [
        "print('Nama-nama elemen utama:\\n', cov_dki_raw.keys())"
      ],
      "execution_count": 478,
      "outputs": [
        {
          "output_type": "stream",
          "name": "stdout",
          "text": [
            "Nama-nama elemen utama:\n",
            " dict_keys(['last_date', 'provinsi', 'kasus_total', 'kasus_tanpa_tgl', 'kasus_dengan_tgl', 'meninggal_persen', 'meninggal_tanpa_tgl', 'meninggal_dengan_tgl', 'sembuh_persen', 'sembuh_tanpa_tgl', 'sembuh_dengan_tgl', 'list_perkembangan', 'data'])\n"
          ]
        }
      ]
    },
    {
      "cell_type": "markdown",
      "metadata": {
        "id": "C0ObByBG8RR2"
      },
      "source": [
        "### **Berapa jumlah total kasus COVID-19 di Jawa Barat?**"
      ]
    },
    {
      "cell_type": "code",
      "metadata": {
        "id": "YizvrXet8DMi",
        "colab": {
          "base_uri": "https://localhost:8080/"
        },
        "outputId": "99ba6565-ef9b-45e0-9204-bcdc2a7e482b"
      },
      "source": [
        "print('\\nJumlah total kasus COVID-19 di DKI Jakarta : %d' %cov_dki_raw['kasus_total'])"
      ],
      "execution_count": 479,
      "outputs": [
        {
          "output_type": "stream",
          "name": "stdout",
          "text": [
            "\n",
            "Jumlah total kasus COVID-19 di DKI Jakarta : 857615\n"
          ]
        }
      ]
    },
    {
      "cell_type": "markdown",
      "metadata": {
        "id": "NATJH-bL8sKO"
      },
      "source": [
        "### **Berapa persentase kematian akibat COVID-19 di Jawa Barat?**"
      ]
    },
    {
      "cell_type": "code",
      "metadata": {
        "id": "ePNaJPpo8e-6",
        "colab": {
          "base_uri": "https://localhost:8080/"
        },
        "outputId": "ecadb10e-7e97-42bb-9b01-0b314ced6e44"
      },
      "source": [
        "print('Persentase kematian akibat COVID-19 di DKI Jakarta : %f.2%%' %cov_dki_raw['meninggal_persen'])"
      ],
      "execution_count": 480,
      "outputs": [
        {
          "output_type": "stream",
          "name": "stdout",
          "text": [
            "Persentase kematian akibat COVID-19 di DKI Jakarta : 1.577281.2%\n"
          ]
        }
      ]
    },
    {
      "cell_type": "markdown",
      "metadata": {
        "id": "R3BVYSZa8uxV"
      },
      "source": [
        "### **Berapa persentase tingkat kesembuhan dari COVID-19 di Jawa Barat?**"
      ]
    },
    {
      "cell_type": "code",
      "metadata": {
        "id": "LntMeozw8lJ2",
        "colab": {
          "base_uri": "https://localhost:8080/"
        },
        "outputId": "35547341-707f-4b8c-97cf-303d66023545"
      },
      "source": [
        "print('Persentase tingkat kesembuhan dari COVID-19 di DKI Jakarta : %f.2%%' %cov_dki_raw['sembuh_persen'])"
      ],
      "execution_count": 481,
      "outputs": [
        {
          "output_type": "stream",
          "name": "stdout",
          "text": [
            "Persentase tingkat kesembuhan dari COVID-19 di DKI Jakarta : 98.174705.2%\n"
          ]
        }
      ]
    },
    {
      "cell_type": "markdown",
      "metadata": {
        "id": "PfCgB_hp_hOi"
      },
      "source": [
        "Kita dapat mengakses data perkembangan COVID-19 dari waktu ke waktu yang juga disediakan oleh covid19.go.id melalui permintaan API yang telah Anda buat sebelumnya. Data historis perkembangan COVID-19 tersebut tersimpan dengan nama `list_perkembangan`."
      ]
    },
    {
      "cell_type": "code",
      "metadata": {
        "id": "2HWFHLbT_SCd",
        "colab": {
          "base_uri": "https://localhost:8080/"
        },
        "outputId": "b9551b79-d847-4441-bd00-115b3be8bbbf"
      },
      "source": [
        "import numpy as np\n",
        "import pandas as pd\n",
        "cov_dki = pd.DataFrame(cov_dki_raw['list_perkembangan'])\n",
        "print('Info cov_dki:\\n', cov_dki.info())"
      ],
      "execution_count": 482,
      "outputs": [
        {
          "output_type": "stream",
          "name": "stdout",
          "text": [
            "<class 'pandas.core.frame.DataFrame'>\n",
            "RangeIndex: 579 entries, 0 to 578\n",
            "Data columns (total 9 columns):\n",
            " #   Column                        Non-Null Count  Dtype\n",
            "---  ------                        --------------  -----\n",
            " 0   tanggal                       579 non-null    int64\n",
            " 1   KASUS                         579 non-null    int64\n",
            " 2   MENINGGAL                     579 non-null    int64\n",
            " 3   SEMBUH                        579 non-null    int64\n",
            " 4   DIRAWAT_OR_ISOLASI            579 non-null    int64\n",
            " 5   AKUMULASI_KASUS               579 non-null    int64\n",
            " 6   AKUMULASI_SEMBUH              579 non-null    int64\n",
            " 7   AKUMULASI_MENINGGAL           579 non-null    int64\n",
            " 8   AKUMULASI_DIRAWAT_OR_ISOLASI  579 non-null    int64\n",
            "dtypes: int64(9)\n",
            "memory usage: 40.8 KB\n",
            "Info cov_dki:\n",
            " None\n"
          ]
        }
      ]
    },
    {
      "cell_type": "code",
      "metadata": {
        "id": "tDYteMhv_35r",
        "colab": {
          "base_uri": "https://localhost:8080/",
          "height": 226
        },
        "outputId": "0703b33f-241c-4926-bdb9-6fbe4bb2d1dd"
      },
      "source": [
        "cov_dki.head()"
      ],
      "execution_count": 483,
      "outputs": [
        {
          "output_type": "execute_result",
          "data": {
            "text/html": [
              "<div>\n",
              "<style scoped>\n",
              "    .dataframe tbody tr th:only-of-type {\n",
              "        vertical-align: middle;\n",
              "    }\n",
              "\n",
              "    .dataframe tbody tr th {\n",
              "        vertical-align: top;\n",
              "    }\n",
              "\n",
              "    .dataframe thead th {\n",
              "        text-align: right;\n",
              "    }\n",
              "</style>\n",
              "<table border=\"1\" class=\"dataframe\">\n",
              "  <thead>\n",
              "    <tr style=\"text-align: right;\">\n",
              "      <th></th>\n",
              "      <th>tanggal</th>\n",
              "      <th>KASUS</th>\n",
              "      <th>MENINGGAL</th>\n",
              "      <th>SEMBUH</th>\n",
              "      <th>DIRAWAT_OR_ISOLASI</th>\n",
              "      <th>AKUMULASI_KASUS</th>\n",
              "      <th>AKUMULASI_SEMBUH</th>\n",
              "      <th>AKUMULASI_MENINGGAL</th>\n",
              "      <th>AKUMULASI_DIRAWAT_OR_ISOLASI</th>\n",
              "    </tr>\n",
              "  </thead>\n",
              "  <tbody>\n",
              "    <tr>\n",
              "      <th>0</th>\n",
              "      <td>1583020800000</td>\n",
              "      <td>2</td>\n",
              "      <td>0</td>\n",
              "      <td>0</td>\n",
              "      <td>2</td>\n",
              "      <td>2</td>\n",
              "      <td>0</td>\n",
              "      <td>0</td>\n",
              "      <td>2</td>\n",
              "    </tr>\n",
              "    <tr>\n",
              "      <th>1</th>\n",
              "      <td>1583107200000</td>\n",
              "      <td>2</td>\n",
              "      <td>0</td>\n",
              "      <td>0</td>\n",
              "      <td>2</td>\n",
              "      <td>4</td>\n",
              "      <td>0</td>\n",
              "      <td>0</td>\n",
              "      <td>4</td>\n",
              "    </tr>\n",
              "    <tr>\n",
              "      <th>2</th>\n",
              "      <td>1583193600000</td>\n",
              "      <td>2</td>\n",
              "      <td>0</td>\n",
              "      <td>0</td>\n",
              "      <td>2</td>\n",
              "      <td>6</td>\n",
              "      <td>0</td>\n",
              "      <td>0</td>\n",
              "      <td>6</td>\n",
              "    </tr>\n",
              "    <tr>\n",
              "      <th>3</th>\n",
              "      <td>1583280000000</td>\n",
              "      <td>2</td>\n",
              "      <td>0</td>\n",
              "      <td>0</td>\n",
              "      <td>2</td>\n",
              "      <td>8</td>\n",
              "      <td>0</td>\n",
              "      <td>0</td>\n",
              "      <td>8</td>\n",
              "    </tr>\n",
              "    <tr>\n",
              "      <th>4</th>\n",
              "      <td>1583366400000</td>\n",
              "      <td>0</td>\n",
              "      <td>1</td>\n",
              "      <td>0</td>\n",
              "      <td>-1</td>\n",
              "      <td>8</td>\n",
              "      <td>0</td>\n",
              "      <td>1</td>\n",
              "      <td>7</td>\n",
              "    </tr>\n",
              "  </tbody>\n",
              "</table>\n",
              "</div>"
            ],
            "text/plain": [
              "         tanggal  KASUS  ...  AKUMULASI_MENINGGAL  AKUMULASI_DIRAWAT_OR_ISOLASI\n",
              "0  1583020800000      2  ...                    0                             2\n",
              "1  1583107200000      2  ...                    0                             4\n",
              "2  1583193600000      2  ...                    0                             6\n",
              "3  1583280000000      2  ...                    0                             8\n",
              "4  1583366400000      0  ...                    1                             7\n",
              "\n",
              "[5 rows x 9 columns]"
            ]
          },
          "metadata": {},
          "execution_count": 483
        }
      ]
    },
    {
      "cell_type": "markdown",
      "metadata": {
        "id": "-c_GVtkWAIuE"
      },
      "source": [
        "## **Data Preprocessing**"
      ]
    },
    {
      "cell_type": "markdown",
      "metadata": {
        "id": "vZilDdpsANVU"
      },
      "source": [
        "- Menghapus kolom `DIRAWAT_OR_ISOLASI` dan semua kolom yang berisi nilai kumulatif\n",
        "- Merubah format penulisan semua kolom menjadi huruf kecil\n",
        "- Mengganti nama kolom `kasus` menjadi `kasus_baru`\n",
        "- Memperbaiki tipe data pada kolom tanggal menggunakan `pd.to_datetime`"
      ]
    },
    {
      "cell_type": "code",
      "metadata": {
        "id": "VXlVGwf8ALI-",
        "colab": {
          "base_uri": "https://localhost:8080/"
        },
        "outputId": "3561508c-a917-425f-c579-a8037f41188a"
      },
      "source": [
        "cov_dki_tidy = (cov_dki.drop(columns=[item for item in cov_dki.columns \n",
        "                                               if item.startswith('AKUMULASI') \n",
        "                                                  or item.startswith('DIRAWAT')])\n",
        "                           .rename(columns=str.lower)\n",
        "                           .rename(columns={'kasus': 'kasus_baru'})\n",
        "                  )\n",
        "cov_dki_tidy['tanggal'] = pd.to_datetime(cov_dki_tidy['tanggal']*1e6, unit='ns')\n",
        "print('Lima data teratas:\\n', cov_dki_tidy.head())\n",
        "print('\\nLima data terakhir:\\n', cov_dki_tidy.tail())"
      ],
      "execution_count": 484,
      "outputs": [
        {
          "output_type": "stream",
          "name": "stdout",
          "text": [
            "Lima data teratas:\n",
            "      tanggal  kasus_baru  meninggal  sembuh\n",
            "0 2020-03-01           2          0       0\n",
            "1 2020-03-02           2          0       0\n",
            "2 2020-03-03           2          0       0\n",
            "3 2020-03-04           2          0       0\n",
            "4 2020-03-05           0          1       0\n",
            "\n",
            "Lima data terakhir:\n",
            "        tanggal  kasus_baru  meninggal  sembuh\n",
            "574 2021-09-26         168          3     126\n",
            "575 2021-09-27         103          4     251\n",
            "576 2021-09-28         102          0       0\n",
            "577 2021-09-29         177          0       2\n",
            "578 2021-09-30           1          0      10\n"
          ]
        }
      ]
    },
    {
      "cell_type": "markdown",
      "metadata": {
        "id": "62ndwEAt1QcR"
      },
      "source": [
        "## **Export Data2 to CSV File**"
      ]
    },
    {
      "cell_type": "code",
      "metadata": {
        "id": "HwRMeZME8cxj"
      },
      "source": [
        "cov_dki_tidy.to_csv('data2_covid_dki_updated', index=False, sep=',')"
      ],
      "execution_count": 485,
      "outputs": []
    },
    {
      "cell_type": "markdown",
      "metadata": {
        "id": "XK13OMvJ8r9x"
      },
      "source": [
        "# **Data 3: Daftar Rumah Sakit Rujukan COVID 19**"
      ]
    },
    {
      "cell_type": "code",
      "metadata": {
        "colab": {
          "base_uri": "https://localhost:8080/"
        },
        "id": "XD_Yv1th8rda",
        "outputId": "abe75036-45ba-41ea-8ac2-22023dd432c9"
      },
      "source": [
        "file_name = 'daftar-rumah-sakit-rujukan-penanggulangan-covid-19.csv'\n",
        "\n",
        "df3 = pd.read_csv(file_name, sep = ',')\n",
        "df3.info()"
      ],
      "execution_count": 486,
      "outputs": [
        {
          "output_type": "stream",
          "name": "stdout",
          "text": [
            "<class 'pandas.core.frame.DataFrame'>\n",
            "RangeIndex: 93 entries, 0 to 92\n",
            "Data columns (total 5 columns):\n",
            " #   Column            Non-Null Count  Dtype \n",
            "---  ------            --------------  ----- \n",
            " 0   nama_rumah_sakit  93 non-null     object\n",
            " 1   alamat            93 non-null     object\n",
            " 2   kota_madya        93 non-null     object\n",
            " 3   kelurahan         93 non-null     object\n",
            " 4   kecamatan         93 non-null     object\n",
            "dtypes: object(5)\n",
            "memory usage: 3.8+ KB\n"
          ]
        }
      ]
    },
    {
      "cell_type": "code",
      "metadata": {
        "colab": {
          "base_uri": "https://localhost:8080/",
          "height": 206
        },
        "id": "oIW8LTjn9Hrr",
        "outputId": "b4824872-5406-4a1d-de8e-3b4c5df42224"
      },
      "source": [
        "df3.head()"
      ],
      "execution_count": 487,
      "outputs": [
        {
          "output_type": "execute_result",
          "data": {
            "text/html": [
              "<div>\n",
              "<style scoped>\n",
              "    .dataframe tbody tr th:only-of-type {\n",
              "        vertical-align: middle;\n",
              "    }\n",
              "\n",
              "    .dataframe tbody tr th {\n",
              "        vertical-align: top;\n",
              "    }\n",
              "\n",
              "    .dataframe thead th {\n",
              "        text-align: right;\n",
              "    }\n",
              "</style>\n",
              "<table border=\"1\" class=\"dataframe\">\n",
              "  <thead>\n",
              "    <tr style=\"text-align: right;\">\n",
              "      <th></th>\n",
              "      <th>nama_rumah_sakit</th>\n",
              "      <th>alamat</th>\n",
              "      <th>kota_madya</th>\n",
              "      <th>kelurahan</th>\n",
              "      <th>kecamatan</th>\n",
              "    </tr>\n",
              "  </thead>\n",
              "  <tbody>\n",
              "    <tr>\n",
              "      <th>0</th>\n",
              "      <td>RSUD Tarakan</td>\n",
              "      <td>JL. KYAI CARINGIN NO.7</td>\n",
              "      <td>JAKARTA PUSAT</td>\n",
              "      <td>CIDENG</td>\n",
              "      <td>GAMBIR</td>\n",
              "    </tr>\n",
              "    <tr>\n",
              "      <th>1</th>\n",
              "      <td>RSUD KOJA</td>\n",
              "      <td>JL. DELI NO.4</td>\n",
              "      <td>JAKARTA UTARA</td>\n",
              "      <td>KOJA</td>\n",
              "      <td>KOJA</td>\n",
              "    </tr>\n",
              "    <tr>\n",
              "      <th>2</th>\n",
              "      <td>RSKD DUREN SAWIT</td>\n",
              "      <td>JL. DUREN SAWIT BARU NO.2</td>\n",
              "      <td>JAKARTA TIMUR</td>\n",
              "      <td>DUREN SAWIT</td>\n",
              "      <td>DUREN SAWIT</td>\n",
              "    </tr>\n",
              "    <tr>\n",
              "      <th>3</th>\n",
              "      <td>RS PERTAMINA JAYA</td>\n",
              "      <td>JL. AHMAD YANI NO.2  BY PASS</td>\n",
              "      <td>JAKARTA PUSAT</td>\n",
              "      <td>CEMPAKA PUTIH TIMUR</td>\n",
              "      <td>CEMPAKA PUTIH</td>\n",
              "    </tr>\n",
              "    <tr>\n",
              "      <th>4</th>\n",
              "      <td>RS PELNI</td>\n",
              "      <td>JL. AIPDA K.S TUBUN NO. 92-94</td>\n",
              "      <td>JAKARTA BARAT</td>\n",
              "      <td>SLIPI</td>\n",
              "      <td>PALMERAH</td>\n",
              "    </tr>\n",
              "  </tbody>\n",
              "</table>\n",
              "</div>"
            ],
            "text/plain": [
              "    nama_rumah_sakit  ...      kecamatan\n",
              "0       RSUD Tarakan  ...         GAMBIR\n",
              "1          RSUD KOJA  ...           KOJA\n",
              "2   RSKD DUREN SAWIT  ...    DUREN SAWIT\n",
              "3  RS PERTAMINA JAYA  ...  CEMPAKA PUTIH\n",
              "4           RS PELNI  ...       PALMERAH\n",
              "\n",
              "[5 rows x 5 columns]"
            ]
          },
          "metadata": {},
          "execution_count": 487
        }
      ]
    },
    {
      "cell_type": "code",
      "metadata": {
        "id": "N24YDpw2H5I4"
      },
      "source": [
        "df3.to_csv('data3_rujukan_rs_dki', index=True, sep=',')"
      ],
      "execution_count": 512,
      "outputs": []
    },
    {
      "cell_type": "markdown",
      "metadata": {
        "id": "yWcrtL2B8f5e"
      },
      "source": [
        "# **Data 4: Vaksinasi COVID 19**"
      ]
    },
    {
      "cell_type": "code",
      "metadata": {
        "id": "RCA3DMeV9tWP"
      },
      "source": [
        "tahap_tiga_vaksin_juli_filename = 'data-jumlah-vaksinasi-covid-19-tahap-3-tiga-menurut-kelurahan-di-provinsi-dki-jakarta-tahun-bulan-juli-2021.csv'\n",
        "gotong_royong_vaksin_juni_filename = 'data-jumlah-vaksinasi-gotong-royong-menurut-kelurahan-di-provinsi-dki-jakarta-bulan-juni-tahun-2021.csv'\n",
        "gotong_royong_vaksin_juli_filename = 'data-jumlah-vaksinasi-gotong-royong-menurut-kelurahan-di-provinsi-dki-jakarta-bulan-juli-tahun-2021.csv'\n",
        "lansia_vaksin_juni_filename = 'data-jumlah-vaksinasi-lansia-menurut-kelurahan-di-provinsi-dki-jakarta-bulan-juni-tahun-2021.csv'\n",
        "lansia_vaksin_juli_filename = 'data-jumlah-vaksinasi-lansia-menurut-kelurahan-di-provinsi-dki-jakarta-bulan-juli-tahun-2021.csv'\n",
        "publik_vaksin_juni_filename = 'data-jumlah-vaksinasi-pelayan-publik-menurut-kelurahan-di-provinsi-dki-jakarta-bulan-juni-tahun-2021.csv'\n",
        "remaja_vaksin_juli_filename = 'data-jumlah-vaksinasi-remaja-menurut-kelurahan-di-provinsi-dki-jakarta-bulan-juli-tahun-2021.csv'\n",
        "tenkes_vaksin_juni_filename = 'data-jumlah-vaksinasi-tenaga-kesehatan-menurut-kelurahan-di-provinsi-dki-jakarta-bulan-juni-tahun-2021.csv'\n",
        "tenkes_vaksin_juli_filename = 'data-jumlah-vaksinasi-tenaga-kesehatan-menurut-kelurahan-di-provinsi-dki-jakarta-bulan-juli-tahun-2021.csv'\n",
        "\n",
        "df4A = pd.read_csv(tahap_tiga_vaksin_juli_filename)\n",
        "df4B = pd.read_csv(gotong_royong_vaksin_juni_filename)\n",
        "df4C = pd.read_csv(gotong_royong_vaksin_juli_filename)\n",
        "df4D = pd.read_csv(lansia_vaksin_juni_filename)\n",
        "df4E = pd.read_csv(lansia_vaksin_juli_filename)\n",
        "df4F = pd.read_csv(publik_vaksin_juni_filename)\n",
        "df4G = pd.read_csv(remaja_vaksin_juli_filename)\n",
        "df4H = pd.read_csv(tenkes_vaksin_juni_filename)\n",
        "df4I = pd.read_csv(tenkes_vaksin_juli_filename)"
      ],
      "execution_count": 502,
      "outputs": []
    },
    {
      "cell_type": "code",
      "metadata": {
        "id": "8zj2AZVlB5sl"
      },
      "source": [
        "df4 = pd.concat([df4A, df4B, df4C, df4D, df4E, df4F, df4G, df4H, df4I])"
      ],
      "execution_count": 503,
      "outputs": []
    },
    {
      "cell_type": "code",
      "metadata": {
        "colab": {
          "base_uri": "https://localhost:8080/"
        },
        "id": "DqGnt6nsGIfM",
        "outputId": "9a8d6a2b-2de9-4b28-cef7-23e47cdf5f71"
      },
      "source": [
        "df4.info()"
      ],
      "execution_count": 504,
      "outputs": [
        {
          "output_type": "stream",
          "name": "stdout",
          "text": [
            "<class 'pandas.core.frame.DataFrame'>\n",
            "Int64Index: 100392 entries, 0 to 16019\n",
            "Data columns (total 8 columns):\n",
            " #   Column              Non-Null Count  Dtype  \n",
            "---  ------              --------------  -----  \n",
            " 0   tanggal             91848 non-null  object \n",
            " 1   kode_kelurahan      91848 non-null  float64\n",
            " 2   wilayah_kota        91848 non-null  object \n",
            " 3   kecamatan           91848 non-null  object \n",
            " 4   kelurahan           91848 non-null  object \n",
            " 5   penerima_vaksinasi  91848 non-null  object \n",
            " 6   dosis               91848 non-null  object \n",
            " 7   jumlah_vaksin       91848 non-null  float64\n",
            "dtypes: float64(2), object(6)\n",
            "memory usage: 6.9+ MB\n"
          ]
        }
      ]
    },
    {
      "cell_type": "code",
      "metadata": {
        "id": "SE6lwo-4GUll"
      },
      "source": [
        "df4.dropna(inplace=True)"
      ],
      "execution_count": 505,
      "outputs": []
    },
    {
      "cell_type": "code",
      "metadata": {
        "id": "HNjweflLG-mG"
      },
      "source": [
        "df4['tanggal'] = pd.to_datetime(df4['tanggal'])"
      ],
      "execution_count": 508,
      "outputs": []
    },
    {
      "cell_type": "code",
      "metadata": {
        "colab": {
          "base_uri": "https://localhost:8080/"
        },
        "id": "TH3b_JK1Gs30",
        "outputId": "77108aab-92e0-4a61-e461-d29c1de63e8c"
      },
      "source": [
        "df4.info()"
      ],
      "execution_count": 509,
      "outputs": [
        {
          "output_type": "stream",
          "name": "stdout",
          "text": [
            "<class 'pandas.core.frame.DataFrame'>\n",
            "Int64Index: 91848 entries, 0 to 16019\n",
            "Data columns (total 8 columns):\n",
            " #   Column              Non-Null Count  Dtype         \n",
            "---  ------              --------------  -----         \n",
            " 0   tanggal             91848 non-null  datetime64[ns]\n",
            " 1   kode_kelurahan      91848 non-null  float64       \n",
            " 2   wilayah_kota        91848 non-null  object        \n",
            " 3   kecamatan           91848 non-null  object        \n",
            " 4   kelurahan           91848 non-null  object        \n",
            " 5   penerima_vaksinasi  91848 non-null  object        \n",
            " 6   dosis               91848 non-null  object        \n",
            " 7   jumlah_vaksin       91848 non-null  float64       \n",
            "dtypes: datetime64[ns](1), float64(2), object(5)\n",
            "memory usage: 6.3+ MB\n"
          ]
        }
      ]
    },
    {
      "cell_type": "code",
      "metadata": {
        "colab": {
          "base_uri": "https://localhost:8080/",
          "height": 669
        },
        "id": "T-l4CXAvG0t5",
        "outputId": "e72fe187-98ab-4149-df1c-beab7b05231a"
      },
      "source": [
        "df4.reset_index(drop=True)"
      ],
      "execution_count": 513,
      "outputs": [
        {
          "output_type": "execute_result",
          "data": {
            "text/html": [
              "<div>\n",
              "<style scoped>\n",
              "    .dataframe tbody tr th:only-of-type {\n",
              "        vertical-align: middle;\n",
              "    }\n",
              "\n",
              "    .dataframe tbody tr th {\n",
              "        vertical-align: top;\n",
              "    }\n",
              "\n",
              "    .dataframe thead th {\n",
              "        text-align: right;\n",
              "    }\n",
              "</style>\n",
              "<table border=\"1\" class=\"dataframe\">\n",
              "  <thead>\n",
              "    <tr style=\"text-align: right;\">\n",
              "      <th></th>\n",
              "      <th>tanggal</th>\n",
              "      <th>kode_kelurahan</th>\n",
              "      <th>wilayah_kota</th>\n",
              "      <th>kecamatan</th>\n",
              "      <th>kelurahan</th>\n",
              "      <th>penerima_vaksinasi</th>\n",
              "      <th>dosis</th>\n",
              "      <th>jumlah_vaksin</th>\n",
              "    </tr>\n",
              "  </thead>\n",
              "  <tbody>\n",
              "    <tr>\n",
              "      <th>0</th>\n",
              "      <td>2021-07-04</td>\n",
              "      <td>3.171071e+09</td>\n",
              "      <td>JAKARTA PUSAT</td>\n",
              "      <td>TANAH ABANG</td>\n",
              "      <td>BENDUNGAN HILIR</td>\n",
              "      <td>Tahapan 3</td>\n",
              "      <td>Dosis 1</td>\n",
              "      <td>3154.0</td>\n",
              "    </tr>\n",
              "    <tr>\n",
              "      <th>1</th>\n",
              "      <td>2021-07-04</td>\n",
              "      <td>3.171041e+09</td>\n",
              "      <td>JAKARTA PUSAT</td>\n",
              "      <td>SENEN</td>\n",
              "      <td>BUNGUR</td>\n",
              "      <td>Tahapan 3</td>\n",
              "      <td>Dosis 1</td>\n",
              "      <td>3042.0</td>\n",
              "    </tr>\n",
              "    <tr>\n",
              "      <th>2</th>\n",
              "      <td>2021-07-04</td>\n",
              "      <td>3.171031e+09</td>\n",
              "      <td>JAKARTA PUSAT</td>\n",
              "      <td>KEMAYORAN</td>\n",
              "      <td>CEMPAKA BARU</td>\n",
              "      <td>Tahapan 3</td>\n",
              "      <td>Dosis 1</td>\n",
              "      <td>3925.0</td>\n",
              "    </tr>\n",
              "    <tr>\n",
              "      <th>3</th>\n",
              "      <td>2021-07-04</td>\n",
              "      <td>3.171051e+09</td>\n",
              "      <td>JAKARTA PUSAT</td>\n",
              "      <td>CEMPAKA PUTIH</td>\n",
              "      <td>CEMPAKA PUTIH BARAT</td>\n",
              "      <td>Tahapan 3</td>\n",
              "      <td>Dosis 1</td>\n",
              "      <td>3674.0</td>\n",
              "    </tr>\n",
              "    <tr>\n",
              "      <th>4</th>\n",
              "      <td>2021-07-04</td>\n",
              "      <td>3.171051e+09</td>\n",
              "      <td>JAKARTA PUSAT</td>\n",
              "      <td>CEMPAKA PUTIH</td>\n",
              "      <td>CEMPAKA PUTIH TIMUR</td>\n",
              "      <td>Tahapan 3</td>\n",
              "      <td>Dosis 1</td>\n",
              "      <td>3276.0</td>\n",
              "    </tr>\n",
              "    <tr>\n",
              "      <th>...</th>\n",
              "      <td>...</td>\n",
              "      <td>...</td>\n",
              "      <td>...</td>\n",
              "      <td>...</td>\n",
              "      <td>...</td>\n",
              "      <td>...</td>\n",
              "      <td>...</td>\n",
              "      <td>...</td>\n",
              "    </tr>\n",
              "    <tr>\n",
              "      <th>91843</th>\n",
              "      <td>2021-07-31</td>\n",
              "      <td>3.101011e+09</td>\n",
              "      <td>KAB.ADM.KEP.SERIBU</td>\n",
              "      <td>KEP. SERIBU UTARA</td>\n",
              "      <td>PULAU KELAPA</td>\n",
              "      <td>TENAGA KESEHATAN</td>\n",
              "      <td>Dosis 2</td>\n",
              "      <td>51.0</td>\n",
              "    </tr>\n",
              "    <tr>\n",
              "      <th>91844</th>\n",
              "      <td>2021-07-31</td>\n",
              "      <td>3.101011e+09</td>\n",
              "      <td>KAB.ADM.KEP.SERIBU</td>\n",
              "      <td>KEP. SERIBU UTARA</td>\n",
              "      <td>PULAU PANGGANG</td>\n",
              "      <td>TENAGA KESEHATAN</td>\n",
              "      <td>Dosis 2</td>\n",
              "      <td>120.0</td>\n",
              "    </tr>\n",
              "    <tr>\n",
              "      <th>91845</th>\n",
              "      <td>2021-07-31</td>\n",
              "      <td>3.101021e+09</td>\n",
              "      <td>KAB.ADM.KEP.SERIBU</td>\n",
              "      <td>KEP. SERIBU SELATAN</td>\n",
              "      <td>PULAU PARI</td>\n",
              "      <td>TENAGA KESEHATAN</td>\n",
              "      <td>Dosis 2</td>\n",
              "      <td>29.0</td>\n",
              "    </tr>\n",
              "    <tr>\n",
              "      <th>91846</th>\n",
              "      <td>2021-07-31</td>\n",
              "      <td>3.101021e+09</td>\n",
              "      <td>KAB.ADM.KEP.SERIBU</td>\n",
              "      <td>KEP. SERIBU SELATAN</td>\n",
              "      <td>PULAU TIDUNG</td>\n",
              "      <td>TENAGA KESEHATAN</td>\n",
              "      <td>Dosis 2</td>\n",
              "      <td>75.0</td>\n",
              "    </tr>\n",
              "    <tr>\n",
              "      <th>91847</th>\n",
              "      <td>2021-07-31</td>\n",
              "      <td>3.101021e+09</td>\n",
              "      <td>KAB.ADM.KEP.SERIBU</td>\n",
              "      <td>KEP. SERIBU SELATAN</td>\n",
              "      <td>PULAU UNTUNG JAWA</td>\n",
              "      <td>TENAGA KESEHATAN</td>\n",
              "      <td>Dosis 2</td>\n",
              "      <td>22.0</td>\n",
              "    </tr>\n",
              "  </tbody>\n",
              "</table>\n",
              "<p>91848 rows × 8 columns</p>\n",
              "</div>"
            ],
            "text/plain": [
              "         tanggal  kode_kelurahan  ...    dosis jumlah_vaksin\n",
              "0     2021-07-04    3.171071e+09  ...  Dosis 1        3154.0\n",
              "1     2021-07-04    3.171041e+09  ...  Dosis 1        3042.0\n",
              "2     2021-07-04    3.171031e+09  ...  Dosis 1        3925.0\n",
              "3     2021-07-04    3.171051e+09  ...  Dosis 1        3674.0\n",
              "4     2021-07-04    3.171051e+09  ...  Dosis 1        3276.0\n",
              "...          ...             ...  ...      ...           ...\n",
              "91843 2021-07-31    3.101011e+09  ...  Dosis 2          51.0\n",
              "91844 2021-07-31    3.101011e+09  ...  Dosis 2         120.0\n",
              "91845 2021-07-31    3.101021e+09  ...  Dosis 2          29.0\n",
              "91846 2021-07-31    3.101021e+09  ...  Dosis 2          75.0\n",
              "91847 2021-07-31    3.101021e+09  ...  Dosis 2          22.0\n",
              "\n",
              "[91848 rows x 8 columns]"
            ]
          },
          "metadata": {},
          "execution_count": 513
        }
      ]
    },
    {
      "cell_type": "code",
      "metadata": {
        "id": "fOwp058pHQ2-"
      },
      "source": [
        "df4.to_csv('data4_vaksin_dki_all', index=True, sep=',')"
      ],
      "execution_count": 514,
      "outputs": []
    }
  ]
}